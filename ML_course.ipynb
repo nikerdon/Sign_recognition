{
  "nbformat": 4,
  "nbformat_minor": 0,
  "metadata": {
    "colab": {
      "provenance": [],
      "toc_visible": true,
      "mount_file_id": "1BE6u5wOzfEHqzEGo2hoqXinRFHTcmCC4",
      "authorship_tag": "ABX9TyPgn+0t7SEzLX3K4/PR0Zh5",
      "include_colab_link": true
    },
    "kernelspec": {
      "name": "python3",
      "display_name": "Python 3"
    },
    "language_info": {
      "name": "python"
    }
  },
  "cells": [
    {
      "cell_type": "markdown",
      "metadata": {
        "id": "view-in-github",
        "colab_type": "text"
      },
      "source": [
        "<a href=\"https://colab.research.google.com/github/nikerdon/Sign_recognition/blob/main/ML_course.ipynb\" target=\"_parent\"><img src=\"https://colab.research.google.com/assets/colab-badge.svg\" alt=\"Open In Colab\"/></a>"
      ]
    },
    {
      "cell_type": "markdown",
      "source": [
        "# Машинное обучние (проект)"
      ],
      "metadata": {
        "id": "ktNqYnG0pNp6"
      }
    },
    {
      "cell_type": "markdown",
      "source": [
        "## Подключение библиотек"
      ],
      "metadata": {
        "id": "0k6h_ZLKp0S1"
      }
    },
    {
      "cell_type": "code",
      "execution_count": 1,
      "metadata": {
        "id": "OOhb57s-8p3L"
      },
      "outputs": [],
      "source": [
        "import numpy as np\n",
        "import pandas as pd\n",
        "import matplotlib.pyplot as plt\n",
        "import seaborn as sns\n",
        "import os\n",
        "import cv2\n",
        "import shutil"
      ]
    },
    {
      "cell_type": "code",
      "source": [
        "\n",
        "# from google.colab import drive\n",
        "# drive.mount('/content/drive')"
      ],
      "metadata": {
        "id": "erZqpn4J_KPd"
      },
      "execution_count": 2,
      "outputs": []
    },
    {
      "cell_type": "code",
      "source": [
        "# rm -rf ~/.cache/kagglehub\n",
        "# shutil.rmtree(\"/Train_crop\")"
      ],
      "metadata": {
        "id": "rPr0gcCCveIv"
      },
      "execution_count": 3,
      "outputs": []
    },
    {
      "cell_type": "code",
      "source": [
        "import kagglehub\n",
        "\n",
        "# Download latest version\n",
        "path = kagglehub.dataset_download(\"meowmeowmeowmeowmeow/gtsrb-german-traffic-sign\")\n",
        "\n",
        "print(\"Path to dataset files:\", path)"
      ],
      "metadata": {
        "colab": {
          "base_uri": "https://localhost:8080/"
        },
        "id": "9bMHYGbjMcz4",
        "outputId": "f0d8136f-723e-4c65-f09f-1fcdacf6883e"
      },
      "execution_count": 4,
      "outputs": [
        {
          "output_type": "stream",
          "name": "stdout",
          "text": [
            "Warning: Looks like you're using an outdated `kagglehub` version, please consider updating (latest version: 0.3.4)\n",
            "Path to dataset files: /root/.cache/kagglehub/datasets/meowmeowmeowmeowmeow/gtsrb-german-traffic-sign/versions/1\n"
          ]
        }
      ]
    },
    {
      "cell_type": "markdown",
      "source": [
        "## Загрузка данных и обрез изображений"
      ],
      "metadata": {
        "id": "1rHgdborXIwy"
      }
    },
    {
      "cell_type": "code",
      "source": [
        "# знаки, которые будем смотреть\n",
        "labels = {\n",
        "    33:'Только поворот направо',\n",
        "    34:'Только поворот налево',\n",
        "    35:'Только вперед',\n",
        "    36:'Вперед или направо',\n",
        "    37:'Вперед или налево',\n",
        "    38:'Держитесь правее',\n",
        "    39:'Держитесь левее'\n",
        "}"
      ],
      "metadata": {
        "id": "Bj52M0QAQNVv"
      },
      "execution_count": 5,
      "outputs": []
    },
    {
      "cell_type": "code",
      "source": [
        "from PIL import Image\n",
        "from tqdm import tqdm\n",
        "\n",
        "def load_csv_data(csv_path, labels):\n",
        "    \"\"\"\n",
        "    Загружает CSV файл, удаляя не нужные нам знаки (то бишь которых нет в labels)\n",
        "\n",
        "    Параметры:\n",
        "    csv_path (str) - путь к файлу\n",
        "    labels (dict) - словарь признаков, на которых делаем : {номер:название}\n",
        "\n",
        "    Возвращает:\n",
        "    Дата Фрейм из csv файла\n",
        "    \"\"\"\n",
        "    df = pd.read_csv(csv_path)\n",
        "\n",
        "    df['label']=df['ClassId'].map(labels)\n",
        "    df = df[df.label.notna()]\n",
        "    df.reset_index(drop=True, inplace=True)\n",
        "\n",
        "    return df\n",
        "\n",
        "def crop_traffic_signs(df, images_dir, save_dir):\n",
        "    \"\"\"\n",
        "    Функция для обрезки изображений дорожных знаков по координатам\n",
        "\n",
        "    Параметры:\n",
        "    df (pd.DataFrame) - DataFrame с колонками ['Path', 'Roi.X1(Y1|X2|Y2)', 'ClassId']\n",
        "    images_dir (str) - Путь к директории с исходными изображениями\n",
        "    save_dir (str) - Путь к директории для сохранения обрезанных изображений\n",
        "\n",
        "    Возвращает:\n",
        "    None\n",
        "    \"\"\"\n",
        "\n",
        "    # Удаляем директорию, если она существует, и создаем её заново\n",
        "    if os.path.exists(save_dir):\n",
        "        shutil.rmtree(save_dir)\n",
        "    os.makedirs(save_dir, exist_ok=True)\n",
        "\n",
        "    # Погнали обрезать\n",
        "    for idx, row in df.iterrows():\n",
        "        img_path = os.path.join(images_dir, row['Path'])\n",
        "        x1, y1, x2, y2 = int(row['Roi.X1']), int(row['Roi.Y1']), int(row['Roi.X2']), int(row['Roi.Y2'])\n",
        "        class_id = row['ClassId']\n",
        "\n",
        "        # Загружаем изображение\n",
        "        img = cv2.imread(img_path)\n",
        "\n",
        "        if img is None:\n",
        "            print(f\"Не удалось загрузить изображение: {img_path}\")\n",
        "            continue\n",
        "\n",
        "        # Проверка границ обрезки (иначе вылетает, так где то косяк походу)\n",
        "        height, width = img.shape[:2]\n",
        "        x1, y1 = max(0, x1), max(0, y1)\n",
        "        x2, y2 = min(width, x2), min(height, y2)\n",
        "\n",
        "        # Обрезаем изображение\n",
        "        cropped_img = img[y1:y2+1, x1:x2+1]\n",
        "\n",
        "        # Создаем директорию для класса\n",
        "        class_dir = os.path.join(save_dir, str(class_id))\n",
        "        os.makedirs(class_dir, exist_ok=True)\n",
        "\n",
        "        # Сохраняем обрезанное изображение\n",
        "        save_path = os.path.join(class_dir, os.path.basename(img_path))\n",
        "        cv2.imwrite(save_path, cropped_img)\n",
        "\n",
        "    print(\"Обрезка завершена\")\n",
        "\n",
        "\n",
        "data_train = load_csv_data(path + '/Train.csv', labels)\n",
        "data_test = load_csv_data(path + '/Test.csv', labels)\n",
        "\n",
        "# создаем файлы с обрезанными данными (лучше всегда создавать)\n",
        "crop_traffic_signs(data_train, path, path + '/Train_crop')\n",
        "crop_traffic_signs(data_test, path, path + '/Test_crop')"
      ],
      "metadata": {
        "colab": {
          "base_uri": "https://localhost:8080/"
        },
        "id": "Wvuh1KxAJU2x",
        "outputId": "f309ee41-c90f-456f-ba91-fe28ea5bc1e0"
      },
      "execution_count": 6,
      "outputs": [
        {
          "output_type": "stream",
          "name": "stdout",
          "text": [
            "Обрезка завершена\n",
            "Обрезка завершена\n"
          ]
        }
      ]
    },
    {
      "cell_type": "code",
      "source": [
        "data_train.head()"
      ],
      "metadata": {
        "colab": {
          "base_uri": "https://localhost:8080/",
          "height": 206
        },
        "id": "uZM5sLFFQYJ6",
        "outputId": "1a49acdc-3013-42d7-b111-99064e504ae4"
      },
      "execution_count": 7,
      "outputs": [
        {
          "output_type": "execute_result",
          "data": {
            "text/plain": [
              "   Width  Height  Roi.X1  Roi.Y1  Roi.X2  Roi.Y2  ClassId  \\\n",
              "0     26      26       5       5      20      21       33   \n",
              "1     27      28       5       6      22      23       33   \n",
              "2     27      27       5       5      22      21       33   \n",
              "3     28      27       6       5      23      22       33   \n",
              "4     27      29       5       6      22      24       33   \n",
              "\n",
              "                             Path                   label  \n",
              "0  Train/33/00033_00000_00000.png  Только поворот направо  \n",
              "1  Train/33/00033_00000_00001.png  Только поворот направо  \n",
              "2  Train/33/00033_00000_00002.png  Только поворот направо  \n",
              "3  Train/33/00033_00000_00003.png  Только поворот направо  \n",
              "4  Train/33/00033_00000_00004.png  Только поворот направо  "
            ],
            "text/html": [
              "\n",
              "  <div id=\"df-30d7a308-cd67-42c7-ab45-77599569ec89\" class=\"colab-df-container\">\n",
              "    <div>\n",
              "<style scoped>\n",
              "    .dataframe tbody tr th:only-of-type {\n",
              "        vertical-align: middle;\n",
              "    }\n",
              "\n",
              "    .dataframe tbody tr th {\n",
              "        vertical-align: top;\n",
              "    }\n",
              "\n",
              "    .dataframe thead th {\n",
              "        text-align: right;\n",
              "    }\n",
              "</style>\n",
              "<table border=\"1\" class=\"dataframe\">\n",
              "  <thead>\n",
              "    <tr style=\"text-align: right;\">\n",
              "      <th></th>\n",
              "      <th>Width</th>\n",
              "      <th>Height</th>\n",
              "      <th>Roi.X1</th>\n",
              "      <th>Roi.Y1</th>\n",
              "      <th>Roi.X2</th>\n",
              "      <th>Roi.Y2</th>\n",
              "      <th>ClassId</th>\n",
              "      <th>Path</th>\n",
              "      <th>label</th>\n",
              "    </tr>\n",
              "  </thead>\n",
              "  <tbody>\n",
              "    <tr>\n",
              "      <th>0</th>\n",
              "      <td>26</td>\n",
              "      <td>26</td>\n",
              "      <td>5</td>\n",
              "      <td>5</td>\n",
              "      <td>20</td>\n",
              "      <td>21</td>\n",
              "      <td>33</td>\n",
              "      <td>Train/33/00033_00000_00000.png</td>\n",
              "      <td>Только поворот направо</td>\n",
              "    </tr>\n",
              "    <tr>\n",
              "      <th>1</th>\n",
              "      <td>27</td>\n",
              "      <td>28</td>\n",
              "      <td>5</td>\n",
              "      <td>6</td>\n",
              "      <td>22</td>\n",
              "      <td>23</td>\n",
              "      <td>33</td>\n",
              "      <td>Train/33/00033_00000_00001.png</td>\n",
              "      <td>Только поворот направо</td>\n",
              "    </tr>\n",
              "    <tr>\n",
              "      <th>2</th>\n",
              "      <td>27</td>\n",
              "      <td>27</td>\n",
              "      <td>5</td>\n",
              "      <td>5</td>\n",
              "      <td>22</td>\n",
              "      <td>21</td>\n",
              "      <td>33</td>\n",
              "      <td>Train/33/00033_00000_00002.png</td>\n",
              "      <td>Только поворот направо</td>\n",
              "    </tr>\n",
              "    <tr>\n",
              "      <th>3</th>\n",
              "      <td>28</td>\n",
              "      <td>27</td>\n",
              "      <td>6</td>\n",
              "      <td>5</td>\n",
              "      <td>23</td>\n",
              "      <td>22</td>\n",
              "      <td>33</td>\n",
              "      <td>Train/33/00033_00000_00003.png</td>\n",
              "      <td>Только поворот направо</td>\n",
              "    </tr>\n",
              "    <tr>\n",
              "      <th>4</th>\n",
              "      <td>27</td>\n",
              "      <td>29</td>\n",
              "      <td>5</td>\n",
              "      <td>6</td>\n",
              "      <td>22</td>\n",
              "      <td>24</td>\n",
              "      <td>33</td>\n",
              "      <td>Train/33/00033_00000_00004.png</td>\n",
              "      <td>Только поворот направо</td>\n",
              "    </tr>\n",
              "  </tbody>\n",
              "</table>\n",
              "</div>\n",
              "    <div class=\"colab-df-buttons\">\n",
              "\n",
              "  <div class=\"colab-df-container\">\n",
              "    <button class=\"colab-df-convert\" onclick=\"convertToInteractive('df-30d7a308-cd67-42c7-ab45-77599569ec89')\"\n",
              "            title=\"Convert this dataframe to an interactive table.\"\n",
              "            style=\"display:none;\">\n",
              "\n",
              "  <svg xmlns=\"http://www.w3.org/2000/svg\" height=\"24px\" viewBox=\"0 -960 960 960\">\n",
              "    <path d=\"M120-120v-720h720v720H120Zm60-500h600v-160H180v160Zm220 220h160v-160H400v160Zm0 220h160v-160H400v160ZM180-400h160v-160H180v160Zm440 0h160v-160H620v160ZM180-180h160v-160H180v160Zm440 0h160v-160H620v160Z\"/>\n",
              "  </svg>\n",
              "    </button>\n",
              "\n",
              "  <style>\n",
              "    .colab-df-container {\n",
              "      display:flex;\n",
              "      gap: 12px;\n",
              "    }\n",
              "\n",
              "    .colab-df-convert {\n",
              "      background-color: #E8F0FE;\n",
              "      border: none;\n",
              "      border-radius: 50%;\n",
              "      cursor: pointer;\n",
              "      display: none;\n",
              "      fill: #1967D2;\n",
              "      height: 32px;\n",
              "      padding: 0 0 0 0;\n",
              "      width: 32px;\n",
              "    }\n",
              "\n",
              "    .colab-df-convert:hover {\n",
              "      background-color: #E2EBFA;\n",
              "      box-shadow: 0px 1px 2px rgba(60, 64, 67, 0.3), 0px 1px 3px 1px rgba(60, 64, 67, 0.15);\n",
              "      fill: #174EA6;\n",
              "    }\n",
              "\n",
              "    .colab-df-buttons div {\n",
              "      margin-bottom: 4px;\n",
              "    }\n",
              "\n",
              "    [theme=dark] .colab-df-convert {\n",
              "      background-color: #3B4455;\n",
              "      fill: #D2E3FC;\n",
              "    }\n",
              "\n",
              "    [theme=dark] .colab-df-convert:hover {\n",
              "      background-color: #434B5C;\n",
              "      box-shadow: 0px 1px 3px 1px rgba(0, 0, 0, 0.15);\n",
              "      filter: drop-shadow(0px 1px 2px rgba(0, 0, 0, 0.3));\n",
              "      fill: #FFFFFF;\n",
              "    }\n",
              "  </style>\n",
              "\n",
              "    <script>\n",
              "      const buttonEl =\n",
              "        document.querySelector('#df-30d7a308-cd67-42c7-ab45-77599569ec89 button.colab-df-convert');\n",
              "      buttonEl.style.display =\n",
              "        google.colab.kernel.accessAllowed ? 'block' : 'none';\n",
              "\n",
              "      async function convertToInteractive(key) {\n",
              "        const element = document.querySelector('#df-30d7a308-cd67-42c7-ab45-77599569ec89');\n",
              "        const dataTable =\n",
              "          await google.colab.kernel.invokeFunction('convertToInteractive',\n",
              "                                                    [key], {});\n",
              "        if (!dataTable) return;\n",
              "\n",
              "        const docLinkHtml = 'Like what you see? Visit the ' +\n",
              "          '<a target=\"_blank\" href=https://colab.research.google.com/notebooks/data_table.ipynb>data table notebook</a>'\n",
              "          + ' to learn more about interactive tables.';\n",
              "        element.innerHTML = '';\n",
              "        dataTable['output_type'] = 'display_data';\n",
              "        await google.colab.output.renderOutput(dataTable, element);\n",
              "        const docLink = document.createElement('div');\n",
              "        docLink.innerHTML = docLinkHtml;\n",
              "        element.appendChild(docLink);\n",
              "      }\n",
              "    </script>\n",
              "  </div>\n",
              "\n",
              "\n",
              "<div id=\"df-060852d5-b3a5-4570-a592-842256aeebb8\">\n",
              "  <button class=\"colab-df-quickchart\" onclick=\"quickchart('df-060852d5-b3a5-4570-a592-842256aeebb8')\"\n",
              "            title=\"Suggest charts\"\n",
              "            style=\"display:none;\">\n",
              "\n",
              "<svg xmlns=\"http://www.w3.org/2000/svg\" height=\"24px\"viewBox=\"0 0 24 24\"\n",
              "     width=\"24px\">\n",
              "    <g>\n",
              "        <path d=\"M19 3H5c-1.1 0-2 .9-2 2v14c0 1.1.9 2 2 2h14c1.1 0 2-.9 2-2V5c0-1.1-.9-2-2-2zM9 17H7v-7h2v7zm4 0h-2V7h2v10zm4 0h-2v-4h2v4z\"/>\n",
              "    </g>\n",
              "</svg>\n",
              "  </button>\n",
              "\n",
              "<style>\n",
              "  .colab-df-quickchart {\n",
              "      --bg-color: #E8F0FE;\n",
              "      --fill-color: #1967D2;\n",
              "      --hover-bg-color: #E2EBFA;\n",
              "      --hover-fill-color: #174EA6;\n",
              "      --disabled-fill-color: #AAA;\n",
              "      --disabled-bg-color: #DDD;\n",
              "  }\n",
              "\n",
              "  [theme=dark] .colab-df-quickchart {\n",
              "      --bg-color: #3B4455;\n",
              "      --fill-color: #D2E3FC;\n",
              "      --hover-bg-color: #434B5C;\n",
              "      --hover-fill-color: #FFFFFF;\n",
              "      --disabled-bg-color: #3B4455;\n",
              "      --disabled-fill-color: #666;\n",
              "  }\n",
              "\n",
              "  .colab-df-quickchart {\n",
              "    background-color: var(--bg-color);\n",
              "    border: none;\n",
              "    border-radius: 50%;\n",
              "    cursor: pointer;\n",
              "    display: none;\n",
              "    fill: var(--fill-color);\n",
              "    height: 32px;\n",
              "    padding: 0;\n",
              "    width: 32px;\n",
              "  }\n",
              "\n",
              "  .colab-df-quickchart:hover {\n",
              "    background-color: var(--hover-bg-color);\n",
              "    box-shadow: 0 1px 2px rgba(60, 64, 67, 0.3), 0 1px 3px 1px rgba(60, 64, 67, 0.15);\n",
              "    fill: var(--button-hover-fill-color);\n",
              "  }\n",
              "\n",
              "  .colab-df-quickchart-complete:disabled,\n",
              "  .colab-df-quickchart-complete:disabled:hover {\n",
              "    background-color: var(--disabled-bg-color);\n",
              "    fill: var(--disabled-fill-color);\n",
              "    box-shadow: none;\n",
              "  }\n",
              "\n",
              "  .colab-df-spinner {\n",
              "    border: 2px solid var(--fill-color);\n",
              "    border-color: transparent;\n",
              "    border-bottom-color: var(--fill-color);\n",
              "    animation:\n",
              "      spin 1s steps(1) infinite;\n",
              "  }\n",
              "\n",
              "  @keyframes spin {\n",
              "    0% {\n",
              "      border-color: transparent;\n",
              "      border-bottom-color: var(--fill-color);\n",
              "      border-left-color: var(--fill-color);\n",
              "    }\n",
              "    20% {\n",
              "      border-color: transparent;\n",
              "      border-left-color: var(--fill-color);\n",
              "      border-top-color: var(--fill-color);\n",
              "    }\n",
              "    30% {\n",
              "      border-color: transparent;\n",
              "      border-left-color: var(--fill-color);\n",
              "      border-top-color: var(--fill-color);\n",
              "      border-right-color: var(--fill-color);\n",
              "    }\n",
              "    40% {\n",
              "      border-color: transparent;\n",
              "      border-right-color: var(--fill-color);\n",
              "      border-top-color: var(--fill-color);\n",
              "    }\n",
              "    60% {\n",
              "      border-color: transparent;\n",
              "      border-right-color: var(--fill-color);\n",
              "    }\n",
              "    80% {\n",
              "      border-color: transparent;\n",
              "      border-right-color: var(--fill-color);\n",
              "      border-bottom-color: var(--fill-color);\n",
              "    }\n",
              "    90% {\n",
              "      border-color: transparent;\n",
              "      border-bottom-color: var(--fill-color);\n",
              "    }\n",
              "  }\n",
              "</style>\n",
              "\n",
              "  <script>\n",
              "    async function quickchart(key) {\n",
              "      const quickchartButtonEl =\n",
              "        document.querySelector('#' + key + ' button');\n",
              "      quickchartButtonEl.disabled = true;  // To prevent multiple clicks.\n",
              "      quickchartButtonEl.classList.add('colab-df-spinner');\n",
              "      try {\n",
              "        const charts = await google.colab.kernel.invokeFunction(\n",
              "            'suggestCharts', [key], {});\n",
              "      } catch (error) {\n",
              "        console.error('Error during call to suggestCharts:', error);\n",
              "      }\n",
              "      quickchartButtonEl.classList.remove('colab-df-spinner');\n",
              "      quickchartButtonEl.classList.add('colab-df-quickchart-complete');\n",
              "    }\n",
              "    (() => {\n",
              "      let quickchartButtonEl =\n",
              "        document.querySelector('#df-060852d5-b3a5-4570-a592-842256aeebb8 button');\n",
              "      quickchartButtonEl.style.display =\n",
              "        google.colab.kernel.accessAllowed ? 'block' : 'none';\n",
              "    })();\n",
              "  </script>\n",
              "</div>\n",
              "    </div>\n",
              "  </div>\n"
            ],
            "application/vnd.google.colaboratory.intrinsic+json": {
              "type": "dataframe",
              "variable_name": "data_train",
              "summary": "{\n  \"name\": \"data_train\",\n  \"rows\": 5279,\n  \"fields\": [\n    {\n      \"column\": \"Width\",\n      \"properties\": {\n        \"dtype\": \"number\",\n        \"std\": 19,\n        \"min\": 25,\n        \"max\": 188,\n        \"num_unique_values\": 119,\n        \"samples\": [\n          109,\n          91,\n          31\n        ],\n        \"semantic_type\": \"\",\n        \"description\": \"\"\n      }\n    },\n    {\n      \"column\": \"Height\",\n      \"properties\": {\n        \"dtype\": \"number\",\n        \"std\": 20,\n        \"min\": 25,\n        \"max\": 193,\n        \"num_unique_values\": 119,\n        \"samples\": [\n          98,\n          115,\n          31\n        ],\n        \"semantic_type\": \"\",\n        \"description\": \"\"\n      }\n    },\n    {\n      \"column\": \"Roi.X1\",\n      \"properties\": {\n        \"dtype\": \"number\",\n        \"std\": 1,\n        \"min\": 2,\n        \"max\": 17,\n        \"num_unique_values\": 14,\n        \"samples\": [\n          12,\n          4,\n          5\n        ],\n        \"semantic_type\": \"\",\n        \"description\": \"\"\n      }\n    },\n    {\n      \"column\": \"Roi.Y1\",\n      \"properties\": {\n        \"dtype\": \"number\",\n        \"std\": 1,\n        \"min\": 5,\n        \"max\": 16,\n        \"num_unique_values\": 12,\n        \"samples\": [\n          15,\n          14,\n          5\n        ],\n        \"semantic_type\": \"\",\n        \"description\": \"\"\n      }\n    },\n    {\n      \"column\": \"Roi.X2\",\n      \"properties\": {\n        \"dtype\": \"number\",\n        \"std\": 19,\n        \"min\": 20,\n        \"max\": 172,\n        \"num_unique_values\": 118,\n        \"samples\": [\n          72,\n          83,\n          25\n        ],\n        \"semantic_type\": \"\",\n        \"description\": \"\"\n      }\n    },\n    {\n      \"column\": \"Roi.Y2\",\n      \"properties\": {\n        \"dtype\": \"number\",\n        \"std\": 19,\n        \"min\": 20,\n        \"max\": 177,\n        \"num_unique_values\": 117,\n        \"samples\": [\n          94,\n          26,\n          70\n        ],\n        \"semantic_type\": \"\",\n        \"description\": \"\"\n      }\n    },\n    {\n      \"column\": \"ClassId\",\n      \"properties\": {\n        \"dtype\": \"number\",\n        \"std\": 1,\n        \"min\": 33,\n        \"max\": 39,\n        \"num_unique_values\": 7,\n        \"samples\": [\n          33,\n          34,\n          38\n        ],\n        \"semantic_type\": \"\",\n        \"description\": \"\"\n      }\n    },\n    {\n      \"column\": \"Path\",\n      \"properties\": {\n        \"dtype\": \"string\",\n        \"num_unique_values\": 5279,\n        \"samples\": [\n          \"Train/33/00033_00000_00008.png\",\n          \"Train/35/00035_00015_00021.png\",\n          \"Train/33/00033_00018_00004.png\"\n        ],\n        \"semantic_type\": \"\",\n        \"description\": \"\"\n      }\n    },\n    {\n      \"column\": \"label\",\n      \"properties\": {\n        \"dtype\": \"category\",\n        \"num_unique_values\": 7,\n        \"samples\": [\n          \"\\u0422\\u043e\\u043b\\u044c\\u043a\\u043e \\u043f\\u043e\\u0432\\u043e\\u0440\\u043e\\u0442 \\u043d\\u0430\\u043f\\u0440\\u0430\\u0432\\u043e\",\n          \"\\u0422\\u043e\\u043b\\u044c\\u043a\\u043e \\u043f\\u043e\\u0432\\u043e\\u0440\\u043e\\u0442 \\u043d\\u0430\\u043b\\u0435\\u0432\\u043e\",\n          \"\\u0414\\u0435\\u0440\\u0436\\u0438\\u0442\\u0435\\u0441\\u044c \\u043f\\u0440\\u0430\\u0432\\u0435\\u0435\"\n        ],\n        \"semantic_type\": \"\",\n        \"description\": \"\"\n      }\n    }\n  ]\n}"
            }
          },
          "metadata": {},
          "execution_count": 7
        }
      ]
    },
    {
      "cell_type": "code",
      "source": [
        "plt.figure(figsize=(10,6))\n",
        "sns.countplot(x='label', data=data_train)\n",
        "plt.xticks(rotation=90);"
      ],
      "metadata": {
        "colab": {
          "base_uri": "https://localhost:8080/",
          "height": 708
        },
        "id": "W6PhQSkGQFMo",
        "outputId": "853060d4-2db8-4777-9d66-44c9105b93bb"
      },
      "execution_count": 8,
      "outputs": [
        {
          "output_type": "display_data",
          "data": {
            "text/plain": [
              "<Figure size 1000x600 with 1 Axes>"
            ],
            "image/png": "[encoded data removed]"
          },
          "metadata": {}
        }
      ]
    },
    {
      "cell_type": "markdown",
      "source": [
        "## Создание тестовых и тренировочных выборок"
      ],
      "metadata": {
        "id": "t7NESuLZXePv"
      }
    },
    {
      "cell_type": "code",
      "source": [
        "# Зададим параметры изображений\n",
        "IMG_HEIGHT = 30\n",
        "IMG_WIDTH = 30\n",
        "channels = 3\n",
        "\n",
        "def load_images_from_dataframe(df, dir):\n",
        "    \"\"\"\n",
        "    Загружает обрезанные изображения из папки и создает массивы данных и меток\n",
        "\n",
        "    Параметры:\n",
        "    df (pd.DataFrame) - DataFrame с колонками ['Path', 'ClassId'].\n",
        "    dir (str) - Путь к директории с изображениями.\n",
        "\n",
        "    Возвращает:\n",
        "    image_data (np.ndarray) - Массив изображений.\n",
        "    image_labels (np.ndarray) - Массив меток (labelsы).\n",
        "    \"\"\"\n",
        "\n",
        "    image_data = []\n",
        "    image_labels = []\n",
        "\n",
        "    for _, row in tqdm(df.iterrows(), total=len(df), desc=\"Загрузка изображений\"):\n",
        "        class_id = row['ClassId']\n",
        "        img_name = os.path.basename(row['Path'])\n",
        "\n",
        "\n",
        "        ## Этот блок нужен, так как для тренировочных и тестовых данных разные структуры файлов\n",
        "        ## без него не будет работать на файле /Test (можешь проверить)\n",
        "\n",
        "        img_path_with_class = os.path.join(dir, str(class_id), img_name)\n",
        "        img_path_without_class = os.path.join(dir, img_name)\n",
        "\n",
        "        # Проверяем, какой путь существует\n",
        "        if os.path.exists(img_path_with_class):\n",
        "            img_path = img_path_with_class\n",
        "        elif os.path.exists(img_path_without_class):\n",
        "            img_path = img_path_without_class\n",
        "        else:\n",
        "            print(f\"Не удалось найти изображение: {img_name}\")\n",
        "            continue\n",
        "\n",
        "        ## блок выбора типа файла закончился\n",
        "\n",
        "        try:\n",
        "            image = cv2.imread(img_path)\n",
        "            if image is None:\n",
        "                print(f\"Не удалось загрузить изображение: {img_path}\")\n",
        "                continue\n",
        "\n",
        "            image_fromarray = Image.fromarray(cv2.cvtColor(image, cv2.COLOR_BGR2RGB))\n",
        "            resize_image = image_fromarray.resize((IMG_HEIGHT, IMG_WIDTH))\n",
        "            image_data.append(np.array(resize_image) / 255.) # сразу для отрисовки сделем\n",
        "            image_labels.append(class_id)\n",
        "\n",
        "        except:\n",
        "            print(f\"Ошибка при обработке {img_path}\")\n",
        "\n",
        "    image_data = np.array(image_data, dtype=np.float32)\n",
        "    image_labels = np.array(image_labels, dtype=np.int32)\n",
        "\n",
        "    print(f\"Загружено {len(image_data)} изображений.\")\n",
        "\n",
        "    return image_data, image_labels\n",
        "\n",
        "X_train_crop, y_train_crop = load_images_from_dataframe(data_train, path + '/Train_crop')\n",
        "X_train, y_train = load_images_from_dataframe(data_train, path + '/Train')"
      ],
      "metadata": {
        "colab": {
          "base_uri": "https://localhost:8080/"
        },
        "id": "vxALw4dPQBSq",
        "outputId": "668f7af8-c198-460d-fb45-87db860a58a6"
      },
      "execution_count": 9,
      "outputs": [
        {
          "output_type": "stream",
          "name": "stderr",
          "text": [
            "Загрузка изображений: 100%|██████████| 5279/5279 [00:07<00:00, 677.40it/s]\n"
          ]
        },
        {
          "output_type": "stream",
          "name": "stdout",
          "text": [
            "Загружено 5279 изображений.\n"
          ]
        },
        {
          "output_type": "stream",
          "name": "stderr",
          "text": [
            "Загрузка изображений: 100%|██████████| 5279/5279 [00:05<00:00, 891.02it/s] "
          ]
        },
        {
          "output_type": "stream",
          "name": "stdout",
          "text": [
            "Загружено 5279 изображений.\n"
          ]
        },
        {
          "output_type": "stream",
          "name": "stderr",
          "text": [
            "\n"
          ]
        }
      ]
    },
    {
      "cell_type": "code",
      "source": [
        "print(X_train.shape, y_train.shape)"
      ],
      "metadata": {
        "colab": {
          "base_uri": "https://localhost:8080/"
        },
        "id": "mAP77vZyPhZZ",
        "outputId": "f8f62912-6c51-4ffa-f9bc-f593c58f6eac"
      },
      "execution_count": 10,
      "outputs": [
        {
          "output_type": "stream",
          "name": "stdout",
          "text": [
            "(5279, 30, 30, 3) (5279,)\n"
          ]
        }
      ]
    },
    {
      "cell_type": "code",
      "source": [
        "X_test_crop, y_test_crop = load_images_from_dataframe(data_test, path + '/Test_crop')\n",
        "X_test, y_test = load_images_from_dataframe(data_test, path + '/Test')"
      ],
      "metadata": {
        "colab": {
          "base_uri": "https://localhost:8080/"
        },
        "id": "9XOy4ccBPhL6",
        "outputId": "7e57edbd-cdcb-40f6-ea1a-3b0198bb4d1d"
      },
      "execution_count": 11,
      "outputs": [
        {
          "output_type": "stream",
          "name": "stderr",
          "text": [
            "Загрузка изображений: 100%|██████████| 1680/1680 [00:01<00:00, 1476.14it/s]\n"
          ]
        },
        {
          "output_type": "stream",
          "name": "stdout",
          "text": [
            "Загружено 1680 изображений.\n"
          ]
        },
        {
          "output_type": "stream",
          "name": "stderr",
          "text": [
            "Загрузка изображений: 100%|██████████| 1680/1680 [00:01<00:00, 1347.65it/s]"
          ]
        },
        {
          "output_type": "stream",
          "name": "stdout",
          "text": [
            "Загружено 1680 изображений.\n"
          ]
        },
        {
          "output_type": "stream",
          "name": "stderr",
          "text": [
            "\n"
          ]
        }
      ]
    },
    {
      "cell_type": "code",
      "source": [
        "import matplotlib.pyplot as plt\n",
        "import numpy as np\n",
        "\n",
        "def plot_unique_images(images, labels, num_classes=42):\n",
        "    \"\"\"\n",
        "    Функция для отображения первых изображений, по одному от каждого уникального класса.\n",
        "\n",
        "    Параметры:\n",
        "    - images (np.ndarray) - Набор изображений (X_train)\n",
        "    - labels (np.ndarray) - Метки изображений (y_train)\n",
        "    - num_classes (int) - Максимальное количество классов для отображения\n",
        "\n",
        "    Возвращает:\n",
        "    None, но зато рисует\n",
        "    \"\"\"\n",
        "    unique_classes = np.unique(labels)\n",
        "    num_classes = min(num_classes, len(unique_classes))\n",
        "\n",
        "    # Собираем индексы первых вхождений для каждого уникального класса\n",
        "    chosen_indices = []\n",
        "    for class_id in unique_classes[:num_classes]:\n",
        "        indices = np.where(labels == class_id)[0]\n",
        "        chosen_indices.append(indices[0])  # Выбираем первый индекс для каждого класса\n",
        "\n",
        "    # Создаем фигуру и оси\n",
        "    plt.figure(figsize=(12, 8))\n",
        "\n",
        "    for i, idx in enumerate(chosen_indices):\n",
        "        plt.subplot(3, 4, i + 1)\n",
        "        plt.imshow(images[idx])\n",
        "        plt.axis('off')\n",
        "        plt.title(f\"Знак номер: {labels[idx]}\")\n",
        "\n",
        "    plt.tight_layout()\n",
        "    plt.show()\n",
        "\n",
        "plot_unique_images(X_train, y_train)\n",
        "plot_unique_images(X_train_crop, y_train_crop)"
      ],
      "metadata": {
        "colab": {
          "base_uri": "https://localhost:8080/",
          "height": 977
        },
        "id": "vJgEL08VPwA7",
        "outputId": "0959767d-f525-4a6e-8e41-7fb729f885d3"
      },
      "execution_count": 12,
      "outputs": [
        {
          "output_type": "display_data",
          "data": {
            "text/plain": [
              "<Figure size 1200x800 with 7 Axes>"
            ],
            "image/png": "[encoded data removed]"
          },
          "metadata": {}
        },
        {
          "output_type": "display_data",
          "data": {
            "text/plain": [
              "<Figure size 1200x800 with 7 Axes>"
            ],
            "image/png": "[encoded data removed]"
          },
          "metadata": {}
        }
      ]
    },
    {
      "cell_type": "markdown",
      "source": [
        "## По приколу посмотрю средние картинки"
      ],
      "metadata": {
        "id": "xixir4Hclqdw"
      }
    },
    {
      "cell_type": "code",
      "source": [
        "X_train_mean = []\n",
        "y_train_mean = []\n",
        "for i in labels.keys():\n",
        "    X_train_mean.append(X_train[y_train == i].mean(axis=0).mean(axis=2))\n",
        "    y_train_mean.append(i)\n",
        "\n",
        "X_train_mean = np.array(X_train_mean)\n",
        "y_train_mean = np.array(y_train_mean)\n",
        "\n",
        "plot_unique_images(X_train_mean, y_train_mean)"
      ],
      "metadata": {
        "colab": {
          "base_uri": "https://localhost:8080/",
          "height": 497
        },
        "id": "I4j2jxEAg8hd",
        "outputId": "2d8dcc95-2f6e-47f3-a432-1ec4f28233d7"
      },
      "execution_count": 13,
      "outputs": [
        {
          "output_type": "display_data",
          "data": {
            "text/plain": [
              "<Figure size 1200x800 with 7 Axes>"
            ],
            "image/png": "[encoded data removed]"
          },
          "metadata": {}
        }
      ]
    },
    {
      "cell_type": "code",
      "source": [
        "X_train_mean_crop = []\n",
        "y_train_mean_crop = []\n",
        "for i in labels.keys():\n",
        "    X_train_mean_crop.append(X_train_crop[y_train_crop == i].mean(axis=0).mean(axis=2))\n",
        "    y_train_mean_crop.append(i)\n",
        "\n",
        "X_train_mean_crop = np.array(X_train_mean_crop)\n",
        "y_train_mean_crop = np.array(y_train_mean_crop)\n",
        "\n",
        "plot_unique_images(X_train_mean_crop, y_train_mean_crop)"
      ],
      "metadata": {
        "colab": {
          "base_uri": "https://localhost:8080/",
          "height": 497
        },
        "id": "fyp9MTP5WtSJ",
        "outputId": "ac55549d-d88f-4d2d-9a50-ee1ca125b438"
      },
      "execution_count": 14,
      "outputs": [
        {
          "output_type": "display_data",
          "data": {
            "text/plain": [
              "<Figure size 1200x800 with 7 Axes>"
            ],
            "image/png": "[encoded data removed]"
          },
          "metadata": {}
        }
      ]
    },
    {
      "cell_type": "markdown",
      "source": [
        "хфхф"
      ],
      "metadata": {
        "id": "pztj3ryUXn7J"
      }
    },
    {
      "cell_type": "markdown",
      "source": [
        "## Обучение"
      ],
      "metadata": {
        "id": "jxjD7zL9puFe"
      }
    },
    {
      "cell_type": "code",
      "source": [
        "from sklearn.svm import SVC\n",
        "from sklearn.model_selection import GridSearchCV\n",
        "from sklearn.metrics import accuracy_score, f1_score\n",
        "from sklearn.linear_model import LogisticRegression\n",
        "from sklearn.neighbors import KNeighborsClassifier\n",
        "from sklearn.tree import DecisionTreeClassifier\n",
        "from sklearn.ensemble import RandomForestClassifier"
      ],
      "metadata": {
        "id": "hOIzpCvsjCVs"
      },
      "execution_count": 15,
      "outputs": []
    },
    {
      "cell_type": "code",
      "source": [
        "def model_precision(model, Xt, yt):\n",
        "    y_pred = model.predict(Xt)\n",
        "    acc = accuracy_score(yt, y_pred)\n",
        "    f1 = f1_score(yt, y_pred, average='weighted')\n",
        "    print(f\"accuracy = {acc}\")\n",
        "    print(f\"f1 score = {f1}\")"
      ],
      "metadata": {
        "id": "-uhiDG3-kUPO"
      },
      "execution_count": 16,
      "outputs": []
    },
    {
      "cell_type": "markdown",
      "source": [
        "### SVC (для полных)"
      ],
      "metadata": {
        "id": "EDKO-4nHpo8t"
      }
    },
    {
      "cell_type": "code",
      "source": [
        "X = X_train.reshape(X_train.shape[0], -1)\n",
        "Xt = X_test.reshape(X_test.shape[0], -1)\n",
        "y = y_train\n",
        "yt = y_test\n",
        "\n",
        "print(X.shape, y.shape, Xt.shape, yt.shape)"
      ],
      "metadata": {
        "colab": {
          "base_uri": "https://localhost:8080/"
        },
        "id": "faSkeLJ7oj9g",
        "outputId": "ec984bab-8814-4a61-a427-28e9d6087d3c"
      },
      "execution_count": 17,
      "outputs": [
        {
          "output_type": "stream",
          "name": "stdout",
          "text": [
            "(5279, 2700) (5279,) (1680, 2700) (1680,)\n"
          ]
        }
      ]
    },
    {
      "cell_type": "code",
      "source": [
        "svc = SVC(kernel='linear', random_state=5)\n",
        "svc.fit(X, y)"
      ],
      "metadata": {
        "colab": {
          "base_uri": "https://localhost:8080/",
          "height": 80
        },
        "id": "mzrk3pbwr0Uk",
        "outputId": "4dcd498e-f2d2-4ba9-dc59-b0d60acd43c5"
      },
      "execution_count": 18,
      "outputs": [
        {
          "output_type": "execute_result",
          "data": {
            "text/plain": [
              "SVC(kernel='linear', random_state=5)"
            ],
            "text/html": [
              "<style>#sk-container-id-1 {\n",
              "  /* Definition of color scheme common for light and dark mode */\n",
              "  --sklearn-color-text: black;\n",
              "  --sklearn-color-line: gray;\n",
              "  /* Definition of color scheme for unfitted estimators */\n",
              "  --sklearn-color-unfitted-level-0: #fff5e6;\n",
              "  --sklearn-color-unfitted-level-1: #f6e4d2;\n",
              "  --sklearn-color-unfitted-level-2: #ffe0b3;\n",
              "  --sklearn-color-unfitted-level-3: chocolate;\n",
              "  /* Definition of color scheme for fitted estimators */\n",
              "  --sklearn-color-fitted-level-0: #f0f8ff;\n",
              "  --sklearn-color-fitted-level-1: #d4ebff;\n",
              "  --sklearn-color-fitted-level-2: #b3dbfd;\n",
              "  --sklearn-color-fitted-level-3: cornflowerblue;\n",
              "\n",
              "  /* Specific color for light theme */\n",
              "  --sklearn-color-text-on-default-background: var(--sg-text-color, var(--theme-code-foreground, var(--jp-content-font-color1, black)));\n",
              "  --sklearn-color-background: var(--sg-background-color, var(--theme-background, var(--jp-layout-color0, white)));\n",
              "  --sklearn-color-border-box: var(--sg-text-color, var(--theme-code-foreground, var(--jp-content-font-color1, black)));\n",
              "  --sklearn-color-icon: #696969;\n",
              "\n",
              "  @media (prefers-color-scheme: dark) {\n",
              "    /* Redefinition of color scheme for dark theme */\n",
              "    --sklearn-color-text-on-default-background: var(--sg-text-color, var(--theme-code-foreground, var(--jp-content-font-color1, white)));\n",
              "    --sklearn-color-background: var(--sg-background-color, var(--theme-background, var(--jp-layout-color0, #111)));\n",
              "    --sklearn-color-border-box: var(--sg-text-color, var(--theme-code-foreground, var(--jp-content-font-color1, white)));\n",
              "    --sklearn-color-icon: #878787;\n",
              "  }\n",
              "}\n",
              "\n",
              "#sk-container-id-1 {\n",
              "  color: var(--sklearn-color-text);\n",
              "}\n",
              "\n",
              "#sk-container-id-1 pre {\n",
              "  padding: 0;\n",
              "}\n",
              "\n",
              "#sk-container-id-1 input.sk-hidden--visually {\n",
              "  border: 0;\n",
              "  clip: rect(1px 1px 1px 1px);\n",
              "  clip: rect(1px, 1px, 1px, 1px);\n",
              "  height: 1px;\n",
              "  margin: -1px;\n",
              "  overflow: hidden;\n",
              "  padding: 0;\n",
              "  position: absolute;\n",
              "  width: 1px;\n",
              "}\n",
              "\n",
              "#sk-container-id-1 div.sk-dashed-wrapped {\n",
              "  border: 1px dashed var(--sklearn-color-line);\n",
              "  margin: 0 0.4em 0.5em 0.4em;\n",
              "  box-sizing: border-box;\n",
              "  padding-bottom: 0.4em;\n",
              "  background-color: var(--sklearn-color-background);\n",
              "}\n",
              "\n",
              "#sk-container-id-1 div.sk-container {\n",
              "  /* jupyter's `normalize.less` sets `[hidden] { display: none; }`\n",
              "     but bootstrap.min.css set `[hidden] { display: none !important; }`\n",
              "     so we also need the `!important` here to be able to override the\n",
              "     default hidden behavior on the sphinx rendered scikit-learn.org.\n",
              "     See: https://github.com/scikit-learn/scikit-learn/issues/21755 */\n",
              "  display: inline-block !important;\n",
              "  position: relative;\n",
              "}\n",
              "\n",
              "#sk-container-id-1 div.sk-text-repr-fallback {\n",
              "  display: none;\n",
              "}\n",
              "\n",
              "div.sk-parallel-item,\n",
              "div.sk-serial,\n",
              "div.sk-item {\n",
              "  /* draw centered vertical line to link estimators */\n",
              "  background-image: linear-gradient(var(--sklearn-color-text-on-default-background), var(--sklearn-color-text-on-default-background));\n",
              "  background-size: 2px 100%;\n",
              "  background-repeat: no-repeat;\n",
              "  background-position: center center;\n",
              "}\n",
              "\n",
              "/* Parallel-specific style estimator block */\n",
              "\n",
              "#sk-container-id-1 div.sk-parallel-item::after {\n",
              "  content: \"\";\n",
              "  width: 100%;\n",
              "  border-bottom: 2px solid var(--sklearn-color-text-on-default-background);\n",
              "  flex-grow: 1;\n",
              "}\n",
              "\n",
              "#sk-container-id-1 div.sk-parallel {\n",
              "  display: flex;\n",
              "  align-items: stretch;\n",
              "  justify-content: center;\n",
              "  background-color: var(--sklearn-color-background);\n",
              "  position: relative;\n",
              "}\n",
              "\n",
              "#sk-container-id-1 div.sk-parallel-item {\n",
              "  display: flex;\n",
              "  flex-direction: column;\n",
              "}\n",
              "\n",
              "#sk-container-id-1 div.sk-parallel-item:first-child::after {\n",
              "  align-self: flex-end;\n",
              "  width: 50%;\n",
              "}\n",
              "\n",
              "#sk-container-id-1 div.sk-parallel-item:last-child::after {\n",
              "  align-self: flex-start;\n",
              "  width: 50%;\n",
              "}\n",
              "\n",
              "#sk-container-id-1 div.sk-parallel-item:only-child::after {\n",
              "  width: 0;\n",
              "}\n",
              "\n",
              "/* Serial-specific style estimator block */\n",
              "\n",
              "#sk-container-id-1 div.sk-serial {\n",
              "  display: flex;\n",
              "  flex-direction: column;\n",
              "  align-items: center;\n",
              "  background-color: var(--sklearn-color-background);\n",
              "  padding-right: 1em;\n",
              "  padding-left: 1em;\n",
              "}\n",
              "\n",
              "\n",
              "/* Toggleable style: style used for estimator/Pipeline/ColumnTransformer box that is\n",
              "clickable and can be expanded/collapsed.\n",
              "- Pipeline and ColumnTransformer use this feature and define the default style\n",
              "- Estimators will overwrite some part of the style using the `sk-estimator` class\n",
              "*/\n",
              "\n",
              "/* Pipeline and ColumnTransformer style (default) */\n",
              "\n",
              "#sk-container-id-1 div.sk-toggleable {\n",
              "  /* Default theme specific background. It is overwritten whether we have a\n",
              "  specific estimator or a Pipeline/ColumnTransformer */\n",
              "  background-color: var(--sklearn-color-background);\n",
              "}\n",
              "\n",
              "/* Toggleable label */\n",
              "#sk-container-id-1 label.sk-toggleable__label {\n",
              "  cursor: pointer;\n",
              "  display: block;\n",
              "  width: 100%;\n",
              "  margin-bottom: 0;\n",
              "  padding: 0.5em;\n",
              "  box-sizing: border-box;\n",
              "  text-align: center;\n",
              "}\n",
              "\n",
              "#sk-container-id-1 label.sk-toggleable__label-arrow:before {\n",
              "  /* Arrow on the left of the label */\n",
              "  content: \"▸\";\n",
              "  float: left;\n",
              "  margin-right: 0.25em;\n",
              "  color: var(--sklearn-color-icon);\n",
              "}\n",
              "\n",
              "#sk-container-id-1 label.sk-toggleable__label-arrow:hover:before {\n",
              "  color: var(--sklearn-color-text);\n",
              "}\n",
              "\n",
              "/* Toggleable content - dropdown */\n",
              "\n",
              "#sk-container-id-1 div.sk-toggleable__content {\n",
              "  max-height: 0;\n",
              "  max-width: 0;\n",
              "  overflow: hidden;\n",
              "  text-align: left;\n",
              "  /* unfitted */\n",
              "  background-color: var(--sklearn-color-unfitted-level-0);\n",
              "}\n",
              "\n",
              "#sk-container-id-1 div.sk-toggleable__content.fitted {\n",
              "  /* fitted */\n",
              "  background-color: var(--sklearn-color-fitted-level-0);\n",
              "}\n",
              "\n",
              "#sk-container-id-1 div.sk-toggleable__content pre {\n",
              "  margin: 0.2em;\n",
              "  border-radius: 0.25em;\n",
              "  color: var(--sklearn-color-text);\n",
              "  /* unfitted */\n",
              "  background-color: var(--sklearn-color-unfitted-level-0);\n",
              "}\n",
              "\n",
              "#sk-container-id-1 div.sk-toggleable__content.fitted pre {\n",
              "  /* unfitted */\n",
              "  background-color: var(--sklearn-color-fitted-level-0);\n",
              "}\n",
              "\n",
              "#sk-container-id-1 input.sk-toggleable__control:checked~div.sk-toggleable__content {\n",
              "  /* Expand drop-down */\n",
              "  max-height: 200px;\n",
              "  max-width: 100%;\n",
              "  overflow: auto;\n",
              "}\n",
              "\n",
              "#sk-container-id-1 input.sk-toggleable__control:checked~label.sk-toggleable__label-arrow:before {\n",
              "  content: \"▾\";\n",
              "}\n",
              "\n",
              "/* Pipeline/ColumnTransformer-specific style */\n",
              "\n",
              "#sk-container-id-1 div.sk-label input.sk-toggleable__control:checked~label.sk-toggleable__label {\n",
              "  color: var(--sklearn-color-text);\n",
              "  background-color: var(--sklearn-color-unfitted-level-2);\n",
              "}\n",
              "\n",
              "#sk-container-id-1 div.sk-label.fitted input.sk-toggleable__control:checked~label.sk-toggleable__label {\n",
              "  background-color: var(--sklearn-color-fitted-level-2);\n",
              "}\n",
              "\n",
              "/* Estimator-specific style */\n",
              "\n",
              "/* Colorize estimator box */\n",
              "#sk-container-id-1 div.sk-estimator input.sk-toggleable__control:checked~label.sk-toggleable__label {\n",
              "  /* unfitted */\n",
              "  background-color: var(--sklearn-color-unfitted-level-2);\n",
              "}\n",
              "\n",
              "#sk-container-id-1 div.sk-estimator.fitted input.sk-toggleable__control:checked~label.sk-toggleable__label {\n",
              "  /* fitted */\n",
              "  background-color: var(--sklearn-color-fitted-level-2);\n",
              "}\n",
              "\n",
              "#sk-container-id-1 div.sk-label label.sk-toggleable__label,\n",
              "#sk-container-id-1 div.sk-label label {\n",
              "  /* The background is the default theme color */\n",
              "  color: var(--sklearn-color-text-on-default-background);\n",
              "}\n",
              "\n",
              "/* On hover, darken the color of the background */\n",
              "#sk-container-id-1 div.sk-label:hover label.sk-toggleable__label {\n",
              "  color: var(--sklearn-color-text);\n",
              "  background-color: var(--sklearn-color-unfitted-level-2);\n",
              "}\n",
              "\n",
              "/* Label box, darken color on hover, fitted */\n",
              "#sk-container-id-1 div.sk-label.fitted:hover label.sk-toggleable__label.fitted {\n",
              "  color: var(--sklearn-color-text);\n",
              "  background-color: var(--sklearn-color-fitted-level-2);\n",
              "}\n",
              "\n",
              "/* Estimator label */\n",
              "\n",
              "#sk-container-id-1 div.sk-label label {\n",
              "  font-family: monospace;\n",
              "  font-weight: bold;\n",
              "  display: inline-block;\n",
              "  line-height: 1.2em;\n",
              "}\n",
              "\n",
              "#sk-container-id-1 div.sk-label-container {\n",
              "  text-align: center;\n",
              "}\n",
              "\n",
              "/* Estimator-specific */\n",
              "#sk-container-id-1 div.sk-estimator {\n",
              "  font-family: monospace;\n",
              "  border: 1px dotted var(--sklearn-color-border-box);\n",
              "  border-radius: 0.25em;\n",
              "  box-sizing: border-box;\n",
              "  margin-bottom: 0.5em;\n",
              "  /* unfitted */\n",
              "  background-color: var(--sklearn-color-unfitted-level-0);\n",
              "}\n",
              "\n",
              "#sk-container-id-1 div.sk-estimator.fitted {\n",
              "  /* fitted */\n",
              "  background-color: var(--sklearn-color-fitted-level-0);\n",
              "}\n",
              "\n",
              "/* on hover */\n",
              "#sk-container-id-1 div.sk-estimator:hover {\n",
              "  /* unfitted */\n",
              "  background-color: var(--sklearn-color-unfitted-level-2);\n",
              "}\n",
              "\n",
              "#sk-container-id-1 div.sk-estimator.fitted:hover {\n",
              "  /* fitted */\n",
              "  background-color: var(--sklearn-color-fitted-level-2);\n",
              "}\n",
              "\n",
              "/* Specification for estimator info (e.g. \"i\" and \"?\") */\n",
              "\n",
              "/* Common style for \"i\" and \"?\" */\n",
              "\n",
              ".sk-estimator-doc-link,\n",
              "a:link.sk-estimator-doc-link,\n",
              "a:visited.sk-estimator-doc-link {\n",
              "  float: right;\n",
              "  font-size: smaller;\n",
              "  line-height: 1em;\n",
              "  font-family: monospace;\n",
              "  background-color: var(--sklearn-color-background);\n",
              "  border-radius: 1em;\n",
              "  height: 1em;\n",
              "  width: 1em;\n",
              "  text-decoration: none !important;\n",
              "  margin-left: 1ex;\n",
              "  /* unfitted */\n",
              "  border: var(--sklearn-color-unfitted-level-1) 1pt solid;\n",
              "  color: var(--sklearn-color-unfitted-level-1);\n",
              "}\n",
              "\n",
              ".sk-estimator-doc-link.fitted,\n",
              "a:link.sk-estimator-doc-link.fitted,\n",
              "a:visited.sk-estimator-doc-link.fitted {\n",
              "  /* fitted */\n",
              "  border: var(--sklearn-color-fitted-level-1) 1pt solid;\n",
              "  color: var(--sklearn-color-fitted-level-1);\n",
              "}\n",
              "\n",
              "/* On hover */\n",
              "div.sk-estimator:hover .sk-estimator-doc-link:hover,\n",
              ".sk-estimator-doc-link:hover,\n",
              "div.sk-label-container:hover .sk-estimator-doc-link:hover,\n",
              ".sk-estimator-doc-link:hover {\n",
              "  /* unfitted */\n",
              "  background-color: var(--sklearn-color-unfitted-level-3);\n",
              "  color: var(--sklearn-color-background);\n",
              "  text-decoration: none;\n",
              "}\n",
              "\n",
              "div.sk-estimator.fitted:hover .sk-estimator-doc-link.fitted:hover,\n",
              ".sk-estimator-doc-link.fitted:hover,\n",
              "div.sk-label-container:hover .sk-estimator-doc-link.fitted:hover,\n",
              ".sk-estimator-doc-link.fitted:hover {\n",
              "  /* fitted */\n",
              "  background-color: var(--sklearn-color-fitted-level-3);\n",
              "  color: var(--sklearn-color-background);\n",
              "  text-decoration: none;\n",
              "}\n",
              "\n",
              "/* Span, style for the box shown on hovering the info icon */\n",
              ".sk-estimator-doc-link span {\n",
              "  display: none;\n",
              "  z-index: 9999;\n",
              "  position: relative;\n",
              "  font-weight: normal;\n",
              "  right: .2ex;\n",
              "  padding: .5ex;\n",
              "  margin: .5ex;\n",
              "  width: min-content;\n",
              "  min-width: 20ex;\n",
              "  max-width: 50ex;\n",
              "  color: var(--sklearn-color-text);\n",
              "  box-shadow: 2pt 2pt 4pt #999;\n",
              "  /* unfitted */\n",
              "  background: var(--sklearn-color-unfitted-level-0);\n",
              "  border: .5pt solid var(--sklearn-color-unfitted-level-3);\n",
              "}\n",
              "\n",
              ".sk-estimator-doc-link.fitted span {\n",
              "  /* fitted */\n",
              "  background: var(--sklearn-color-fitted-level-0);\n",
              "  border: var(--sklearn-color-fitted-level-3);\n",
              "}\n",
              "\n",
              ".sk-estimator-doc-link:hover span {\n",
              "  display: block;\n",
              "}\n",
              "\n",
              "/* \"?\"-specific style due to the `<a>` HTML tag */\n",
              "\n",
              "#sk-container-id-1 a.estimator_doc_link {\n",
              "  float: right;\n",
              "  font-size: 1rem;\n",
              "  line-height: 1em;\n",
              "  font-family: monospace;\n",
              "  background-color: var(--sklearn-color-background);\n",
              "  border-radius: 1rem;\n",
              "  height: 1rem;\n",
              "  width: 1rem;\n",
              "  text-decoration: none;\n",
              "  /* unfitted */\n",
              "  color: var(--sklearn-color-unfitted-level-1);\n",
              "  border: var(--sklearn-color-unfitted-level-1) 1pt solid;\n",
              "}\n",
              "\n",
              "#sk-container-id-1 a.estimator_doc_link.fitted {\n",
              "  /* fitted */\n",
              "  border: var(--sklearn-color-fitted-level-1) 1pt solid;\n",
              "  color: var(--sklearn-color-fitted-level-1);\n",
              "}\n",
              "\n",
              "/* On hover */\n",
              "#sk-container-id-1 a.estimator_doc_link:hover {\n",
              "  /* unfitted */\n",
              "  background-color: var(--sklearn-color-unfitted-level-3);\n",
              "  color: var(--sklearn-color-background);\n",
              "  text-decoration: none;\n",
              "}\n",
              "\n",
              "#sk-container-id-1 a.estimator_doc_link.fitted:hover {\n",
              "  /* fitted */\n",
              "  background-color: var(--sklearn-color-fitted-level-3);\n",
              "}\n",
              "</style><div id=\"sk-container-id-1\" class=\"sk-top-container\"><div class=\"sk-text-repr-fallback\"><pre>SVC(kernel=&#x27;linear&#x27;, random_state=5)</pre><b>In a Jupyter environment, please rerun this cell to show the HTML representation or trust the notebook. <br />On GitHub, the HTML representation is unable to render, please try loading this page with nbviewer.org.</b></div><div class=\"sk-container\" hidden><div class=\"sk-item\"><div class=\"sk-estimator fitted sk-toggleable\"><input class=\"sk-toggleable__control sk-hidden--visually\" id=\"sk-estimator-id-1\" type=\"checkbox\" checked><label for=\"sk-estimator-id-1\" class=\"sk-toggleable__label fitted sk-toggleable__label-arrow fitted\">&nbsp;&nbsp;SVC<a class=\"sk-estimator-doc-link fitted\" rel=\"noreferrer\" target=\"_blank\" href=\"https://scikit-learn.org/1.5/modules/generated/sklearn.svm.SVC.html\">?<span>Documentation for SVC</span></a><span class=\"sk-estimator-doc-link fitted\">i<span>Fitted</span></span></label><div class=\"sk-toggleable__content fitted\"><pre>SVC(kernel=&#x27;linear&#x27;, random_state=5)</pre></div> </div></div></div></div>"
            ]
          },
          "metadata": {},
          "execution_count": 18
        }
      ]
    },
    {
      "cell_type": "code",
      "source": [
        "model_precision(svc, Xt, yt)"
      ],
      "metadata": {
        "id": "slmtmu8wsAxz",
        "outputId": "09dbe7cf-2837-43e5-8207-20070590cbe6",
        "colab": {
          "base_uri": "https://localhost:8080/"
        }
      },
      "execution_count": 19,
      "outputs": [
        {
          "output_type": "stream",
          "name": "stdout",
          "text": [
            "accuracy = 0.9339285714285714\n",
            "f1 score = 0.9328298300715049\n"
          ]
        }
      ]
    },
    {
      "cell_type": "markdown",
      "source": [
        "### SVC (для обрезанных)"
      ],
      "metadata": {
        "id": "HVL7cmmLXwbU"
      }
    },
    {
      "cell_type": "code",
      "source": [
        "X = X_train_crop.reshape(X_train.shape[0], -1)\n",
        "Xt = X_test_crop.reshape(X_test.shape[0], -1)\n",
        "y = y_train\n",
        "yt = y_test\n",
        "\n",
        "print(X.shape, y.shape, Xt.shape, yt.shape)"
      ],
      "metadata": {
        "colab": {
          "base_uri": "https://localhost:8080/"
        },
        "id": "elsCyp_FZFZN",
        "outputId": "6cadf613-8b1e-4168-c022-2bafc36e28e6"
      },
      "execution_count": 20,
      "outputs": [
        {
          "output_type": "stream",
          "name": "stdout",
          "text": [
            "(5279, 2700) (5279,) (1680, 2700) (1680,)\n"
          ]
        }
      ]
    },
    {
      "cell_type": "code",
      "source": [
        "svc = SVC(kernel='linear', random_state=5)\n",
        "svc.fit(X, y)"
      ],
      "metadata": {
        "colab": {
          "base_uri": "https://localhost:8080/",
          "height": 80
        },
        "id": "TsPzab8PZFW-",
        "outputId": "f1fc02ae-38bc-4bf0-f7b9-9ba13d7ae395"
      },
      "execution_count": 21,
      "outputs": [
        {
          "output_type": "execute_result",
          "data": {
            "text/plain": [
              "SVC(kernel='linear', random_state=5)"
            ],
            "text/html": [
              "<style>#sk-container-id-2 {\n",
              "  /* Definition of color scheme common for light and dark mode */\n",
              "  --sklearn-color-text: black;\n",
              "  --sklearn-color-line: gray;\n",
              "  /* Definition of color scheme for unfitted estimators */\n",
              "  --sklearn-color-unfitted-level-0: #fff5e6;\n",
              "  --sklearn-color-unfitted-level-1: #f6e4d2;\n",
              "  --sklearn-color-unfitted-level-2: #ffe0b3;\n",
              "  --sklearn-color-unfitted-level-3: chocolate;\n",
              "  /* Definition of color scheme for fitted estimators */\n",
              "  --sklearn-color-fitted-level-0: #f0f8ff;\n",
              "  --sklearn-color-fitted-level-1: #d4ebff;\n",
              "  --sklearn-color-fitted-level-2: #b3dbfd;\n",
              "  --sklearn-color-fitted-level-3: cornflowerblue;\n",
              "\n",
              "  /* Specific color for light theme */\n",
              "  --sklearn-color-text-on-default-background: var(--sg-text-color, var(--theme-code-foreground, var(--jp-content-font-color1, black)));\n",
              "  --sklearn-color-background: var(--sg-background-color, var(--theme-background, var(--jp-layout-color0, white)));\n",
              "  --sklearn-color-border-box: var(--sg-text-color, var(--theme-code-foreground, var(--jp-content-font-color1, black)));\n",
              "  --sklearn-color-icon: #696969;\n",
              "\n",
              "  @media (prefers-color-scheme: dark) {\n",
              "    /* Redefinition of color scheme for dark theme */\n",
              "    --sklearn-color-text-on-default-background: var(--sg-text-color, var(--theme-code-foreground, var(--jp-content-font-color1, white)));\n",
              "    --sklearn-color-background: var(--sg-background-color, var(--theme-background, var(--jp-layout-color0, #111)));\n",
              "    --sklearn-color-border-box: var(--sg-text-color, var(--theme-code-foreground, var(--jp-content-font-color1, white)));\n",
              "    --sklearn-color-icon: #878787;\n",
              "  }\n",
              "}\n",
              "\n",
              "#sk-container-id-2 {\n",
              "  color: var(--sklearn-color-text);\n",
              "}\n",
              "\n",
              "#sk-container-id-2 pre {\n",
              "  padding: 0;\n",
              "}\n",
              "\n",
              "#sk-container-id-2 input.sk-hidden--visually {\n",
              "  border: 0;\n",
              "  clip: rect(1px 1px 1px 1px);\n",
              "  clip: rect(1px, 1px, 1px, 1px);\n",
              "  height: 1px;\n",
              "  margin: -1px;\n",
              "  overflow: hidden;\n",
              "  padding: 0;\n",
              "  position: absolute;\n",
              "  width: 1px;\n",
              "}\n",
              "\n",
              "#sk-container-id-2 div.sk-dashed-wrapped {\n",
              "  border: 1px dashed var(--sklearn-color-line);\n",
              "  margin: 0 0.4em 0.5em 0.4em;\n",
              "  box-sizing: border-box;\n",
              "  padding-bottom: 0.4em;\n",
              "  background-color: var(--sklearn-color-background);\n",
              "}\n",
              "\n",
              "#sk-container-id-2 div.sk-container {\n",
              "  /* jupyter's `normalize.less` sets `[hidden] { display: none; }`\n",
              "     but bootstrap.min.css set `[hidden] { display: none !important; }`\n",
              "     so we also need the `!important` here to be able to override the\n",
              "     default hidden behavior on the sphinx rendered scikit-learn.org.\n",
              "     See: https://github.com/scikit-learn/scikit-learn/issues/21755 */\n",
              "  display: inline-block !important;\n",
              "  position: relative;\n",
              "}\n",
              "\n",
              "#sk-container-id-2 div.sk-text-repr-fallback {\n",
              "  display: none;\n",
              "}\n",
              "\n",
              "div.sk-parallel-item,\n",
              "div.sk-serial,\n",
              "div.sk-item {\n",
              "  /* draw centered vertical line to link estimators */\n",
              "  background-image: linear-gradient(var(--sklearn-color-text-on-default-background), var(--sklearn-color-text-on-default-background));\n",
              "  background-size: 2px 100%;\n",
              "  background-repeat: no-repeat;\n",
              "  background-position: center center;\n",
              "}\n",
              "\n",
              "/* Parallel-specific style estimator block */\n",
              "\n",
              "#sk-container-id-2 div.sk-parallel-item::after {\n",
              "  content: \"\";\n",
              "  width: 100%;\n",
              "  border-bottom: 2px solid var(--sklearn-color-text-on-default-background);\n",
              "  flex-grow: 1;\n",
              "}\n",
              "\n",
              "#sk-container-id-2 div.sk-parallel {\n",
              "  display: flex;\n",
              "  align-items: stretch;\n",
              "  justify-content: center;\n",
              "  background-color: var(--sklearn-color-background);\n",
              "  position: relative;\n",
              "}\n",
              "\n",
              "#sk-container-id-2 div.sk-parallel-item {\n",
              "  display: flex;\n",
              "  flex-direction: column;\n",
              "}\n",
              "\n",
              "#sk-container-id-2 div.sk-parallel-item:first-child::after {\n",
              "  align-self: flex-end;\n",
              "  width: 50%;\n",
              "}\n",
              "\n",
              "#sk-container-id-2 div.sk-parallel-item:last-child::after {\n",
              "  align-self: flex-start;\n",
              "  width: 50%;\n",
              "}\n",
              "\n",
              "#sk-container-id-2 div.sk-parallel-item:only-child::after {\n",
              "  width: 0;\n",
              "}\n",
              "\n",
              "/* Serial-specific style estimator block */\n",
              "\n",
              "#sk-container-id-2 div.sk-serial {\n",
              "  display: flex;\n",
              "  flex-direction: column;\n",
              "  align-items: center;\n",
              "  background-color: var(--sklearn-color-background);\n",
              "  padding-right: 1em;\n",
              "  padding-left: 1em;\n",
              "}\n",
              "\n",
              "\n",
              "/* Toggleable style: style used for estimator/Pipeline/ColumnTransformer box that is\n",
              "clickable and can be expanded/collapsed.\n",
              "- Pipeline and ColumnTransformer use this feature and define the default style\n",
              "- Estimators will overwrite some part of the style using the `sk-estimator` class\n",
              "*/\n",
              "\n",
              "/* Pipeline and ColumnTransformer style (default) */\n",
              "\n",
              "#sk-container-id-2 div.sk-toggleable {\n",
              "  /* Default theme specific background. It is overwritten whether we have a\n",
              "  specific estimator or a Pipeline/ColumnTransformer */\n",
              "  background-color: var(--sklearn-color-background);\n",
              "}\n",
              "\n",
              "/* Toggleable label */\n",
              "#sk-container-id-2 label.sk-toggleable__label {\n",
              "  cursor: pointer;\n",
              "  display: block;\n",
              "  width: 100%;\n",
              "  margin-bottom: 0;\n",
              "  padding: 0.5em;\n",
              "  box-sizing: border-box;\n",
              "  text-align: center;\n",
              "}\n",
              "\n",
              "#sk-container-id-2 label.sk-toggleable__label-arrow:before {\n",
              "  /* Arrow on the left of the label */\n",
              "  content: \"▸\";\n",
              "  float: left;\n",
              "  margin-right: 0.25em;\n",
              "  color: var(--sklearn-color-icon);\n",
              "}\n",
              "\n",
              "#sk-container-id-2 label.sk-toggleable__label-arrow:hover:before {\n",
              "  color: var(--sklearn-color-text);\n",
              "}\n",
              "\n",
              "/* Toggleable content - dropdown */\n",
              "\n",
              "#sk-container-id-2 div.sk-toggleable__content {\n",
              "  max-height: 0;\n",
              "  max-width: 0;\n",
              "  overflow: hidden;\n",
              "  text-align: left;\n",
              "  /* unfitted */\n",
              "  background-color: var(--sklearn-color-unfitted-level-0);\n",
              "}\n",
              "\n",
              "#sk-container-id-2 div.sk-toggleable__content.fitted {\n",
              "  /* fitted */\n",
              "  background-color: var(--sklearn-color-fitted-level-0);\n",
              "}\n",
              "\n",
              "#sk-container-id-2 div.sk-toggleable__content pre {\n",
              "  margin: 0.2em;\n",
              "  border-radius: 0.25em;\n",
              "  color: var(--sklearn-color-text);\n",
              "  /* unfitted */\n",
              "  background-color: var(--sklearn-color-unfitted-level-0);\n",
              "}\n",
              "\n",
              "#sk-container-id-2 div.sk-toggleable__content.fitted pre {\n",
              "  /* unfitted */\n",
              "  background-color: var(--sklearn-color-fitted-level-0);\n",
              "}\n",
              "\n",
              "#sk-container-id-2 input.sk-toggleable__control:checked~div.sk-toggleable__content {\n",
              "  /* Expand drop-down */\n",
              "  max-height: 200px;\n",
              "  max-width: 100%;\n",
              "  overflow: auto;\n",
              "}\n",
              "\n",
              "#sk-container-id-2 input.sk-toggleable__control:checked~label.sk-toggleable__label-arrow:before {\n",
              "  content: \"▾\";\n",
              "}\n",
              "\n",
              "/* Pipeline/ColumnTransformer-specific style */\n",
              "\n",
              "#sk-container-id-2 div.sk-label input.sk-toggleable__control:checked~label.sk-toggleable__label {\n",
              "  color: var(--sklearn-color-text);\n",
              "  background-color: var(--sklearn-color-unfitted-level-2);\n",
              "}\n",
              "\n",
              "#sk-container-id-2 div.sk-label.fitted input.sk-toggleable__control:checked~label.sk-toggleable__label {\n",
              "  background-color: var(--sklearn-color-fitted-level-2);\n",
              "}\n",
              "\n",
              "/* Estimator-specific style */\n",
              "\n",
              "/* Colorize estimator box */\n",
              "#sk-container-id-2 div.sk-estimator input.sk-toggleable__control:checked~label.sk-toggleable__label {\n",
              "  /* unfitted */\n",
              "  background-color: var(--sklearn-color-unfitted-level-2);\n",
              "}\n",
              "\n",
              "#sk-container-id-2 div.sk-estimator.fitted input.sk-toggleable__control:checked~label.sk-toggleable__label {\n",
              "  /* fitted */\n",
              "  background-color: var(--sklearn-color-fitted-level-2);\n",
              "}\n",
              "\n",
              "#sk-container-id-2 div.sk-label label.sk-toggleable__label,\n",
              "#sk-container-id-2 div.sk-label label {\n",
              "  /* The background is the default theme color */\n",
              "  color: var(--sklearn-color-text-on-default-background);\n",
              "}\n",
              "\n",
              "/* On hover, darken the color of the background */\n",
              "#sk-container-id-2 div.sk-label:hover label.sk-toggleable__label {\n",
              "  color: var(--sklearn-color-text);\n",
              "  background-color: var(--sklearn-color-unfitted-level-2);\n",
              "}\n",
              "\n",
              "/* Label box, darken color on hover, fitted */\n",
              "#sk-container-id-2 div.sk-label.fitted:hover label.sk-toggleable__label.fitted {\n",
              "  color: var(--sklearn-color-text);\n",
              "  background-color: var(--sklearn-color-fitted-level-2);\n",
              "}\n",
              "\n",
              "/* Estimator label */\n",
              "\n",
              "#sk-container-id-2 div.sk-label label {\n",
              "  font-family: monospace;\n",
              "  font-weight: bold;\n",
              "  display: inline-block;\n",
              "  line-height: 1.2em;\n",
              "}\n",
              "\n",
              "#sk-container-id-2 div.sk-label-container {\n",
              "  text-align: center;\n",
              "}\n",
              "\n",
              "/* Estimator-specific */\n",
              "#sk-container-id-2 div.sk-estimator {\n",
              "  font-family: monospace;\n",
              "  border: 1px dotted var(--sklearn-color-border-box);\n",
              "  border-radius: 0.25em;\n",
              "  box-sizing: border-box;\n",
              "  margin-bottom: 0.5em;\n",
              "  /* unfitted */\n",
              "  background-color: var(--sklearn-color-unfitted-level-0);\n",
              "}\n",
              "\n",
              "#sk-container-id-2 div.sk-estimator.fitted {\n",
              "  /* fitted */\n",
              "  background-color: var(--sklearn-color-fitted-level-0);\n",
              "}\n",
              "\n",
              "/* on hover */\n",
              "#sk-container-id-2 div.sk-estimator:hover {\n",
              "  /* unfitted */\n",
              "  background-color: var(--sklearn-color-unfitted-level-2);\n",
              "}\n",
              "\n",
              "#sk-container-id-2 div.sk-estimator.fitted:hover {\n",
              "  /* fitted */\n",
              "  background-color: var(--sklearn-color-fitted-level-2);\n",
              "}\n",
              "\n",
              "/* Specification for estimator info (e.g. \"i\" and \"?\") */\n",
              "\n",
              "/* Common style for \"i\" and \"?\" */\n",
              "\n",
              ".sk-estimator-doc-link,\n",
              "a:link.sk-estimator-doc-link,\n",
              "a:visited.sk-estimator-doc-link {\n",
              "  float: right;\n",
              "  font-size: smaller;\n",
              "  line-height: 1em;\n",
              "  font-family: monospace;\n",
              "  background-color: var(--sklearn-color-background);\n",
              "  border-radius: 1em;\n",
              "  height: 1em;\n",
              "  width: 1em;\n",
              "  text-decoration: none !important;\n",
              "  margin-left: 1ex;\n",
              "  /* unfitted */\n",
              "  border: var(--sklearn-color-unfitted-level-1) 1pt solid;\n",
              "  color: var(--sklearn-color-unfitted-level-1);\n",
              "}\n",
              "\n",
              ".sk-estimator-doc-link.fitted,\n",
              "a:link.sk-estimator-doc-link.fitted,\n",
              "a:visited.sk-estimator-doc-link.fitted {\n",
              "  /* fitted */\n",
              "  border: var(--sklearn-color-fitted-level-1) 1pt solid;\n",
              "  color: var(--sklearn-color-fitted-level-1);\n",
              "}\n",
              "\n",
              "/* On hover */\n",
              "div.sk-estimator:hover .sk-estimator-doc-link:hover,\n",
              ".sk-estimator-doc-link:hover,\n",
              "div.sk-label-container:hover .sk-estimator-doc-link:hover,\n",
              ".sk-estimator-doc-link:hover {\n",
              "  /* unfitted */\n",
              "  background-color: var(--sklearn-color-unfitted-level-3);\n",
              "  color: var(--sklearn-color-background);\n",
              "  text-decoration: none;\n",
              "}\n",
              "\n",
              "div.sk-estimator.fitted:hover .sk-estimator-doc-link.fitted:hover,\n",
              ".sk-estimator-doc-link.fitted:hover,\n",
              "div.sk-label-container:hover .sk-estimator-doc-link.fitted:hover,\n",
              ".sk-estimator-doc-link.fitted:hover {\n",
              "  /* fitted */\n",
              "  background-color: var(--sklearn-color-fitted-level-3);\n",
              "  color: var(--sklearn-color-background);\n",
              "  text-decoration: none;\n",
              "}\n",
              "\n",
              "/* Span, style for the box shown on hovering the info icon */\n",
              ".sk-estimator-doc-link span {\n",
              "  display: none;\n",
              "  z-index: 9999;\n",
              "  position: relative;\n",
              "  font-weight: normal;\n",
              "  right: .2ex;\n",
              "  padding: .5ex;\n",
              "  margin: .5ex;\n",
              "  width: min-content;\n",
              "  min-width: 20ex;\n",
              "  max-width: 50ex;\n",
              "  color: var(--sklearn-color-text);\n",
              "  box-shadow: 2pt 2pt 4pt #999;\n",
              "  /* unfitted */\n",
              "  background: var(--sklearn-color-unfitted-level-0);\n",
              "  border: .5pt solid var(--sklearn-color-unfitted-level-3);\n",
              "}\n",
              "\n",
              ".sk-estimator-doc-link.fitted span {\n",
              "  /* fitted */\n",
              "  background: var(--sklearn-color-fitted-level-0);\n",
              "  border: var(--sklearn-color-fitted-level-3);\n",
              "}\n",
              "\n",
              ".sk-estimator-doc-link:hover span {\n",
              "  display: block;\n",
              "}\n",
              "\n",
              "/* \"?\"-specific style due to the `<a>` HTML tag */\n",
              "\n",
              "#sk-container-id-2 a.estimator_doc_link {\n",
              "  float: right;\n",
              "  font-size: 1rem;\n",
              "  line-height: 1em;\n",
              "  font-family: monospace;\n",
              "  background-color: var(--sklearn-color-background);\n",
              "  border-radius: 1rem;\n",
              "  height: 1rem;\n",
              "  width: 1rem;\n",
              "  text-decoration: none;\n",
              "  /* unfitted */\n",
              "  color: var(--sklearn-color-unfitted-level-1);\n",
              "  border: var(--sklearn-color-unfitted-level-1) 1pt solid;\n",
              "}\n",
              "\n",
              "#sk-container-id-2 a.estimator_doc_link.fitted {\n",
              "  /* fitted */\n",
              "  border: var(--sklearn-color-fitted-level-1) 1pt solid;\n",
              "  color: var(--sklearn-color-fitted-level-1);\n",
              "}\n",
              "\n",
              "/* On hover */\n",
              "#sk-container-id-2 a.estimator_doc_link:hover {\n",
              "  /* unfitted */\n",
              "  background-color: var(--sklearn-color-unfitted-level-3);\n",
              "  color: var(--sklearn-color-background);\n",
              "  text-decoration: none;\n",
              "}\n",
              "\n",
              "#sk-container-id-2 a.estimator_doc_link.fitted:hover {\n",
              "  /* fitted */\n",
              "  background-color: var(--sklearn-color-fitted-level-3);\n",
              "}\n",
              "</style><div id=\"sk-container-id-2\" class=\"sk-top-container\"><div class=\"sk-text-repr-fallback\"><pre>SVC(kernel=&#x27;linear&#x27;, random_state=5)</pre><b>In a Jupyter environment, please rerun this cell to show the HTML representation or trust the notebook. <br />On GitHub, the HTML representation is unable to render, please try loading this page with nbviewer.org.</b></div><div class=\"sk-container\" hidden><div class=\"sk-item\"><div class=\"sk-estimator fitted sk-toggleable\"><input class=\"sk-toggleable__control sk-hidden--visually\" id=\"sk-estimator-id-2\" type=\"checkbox\" checked><label for=\"sk-estimator-id-2\" class=\"sk-toggleable__label fitted sk-toggleable__label-arrow fitted\">&nbsp;&nbsp;SVC<a class=\"sk-estimator-doc-link fitted\" rel=\"noreferrer\" target=\"_blank\" href=\"https://scikit-learn.org/1.5/modules/generated/sklearn.svm.SVC.html\">?<span>Documentation for SVC</span></a><span class=\"sk-estimator-doc-link fitted\">i<span>Fitted</span></span></label><div class=\"sk-toggleable__content fitted\"><pre>SVC(kernel=&#x27;linear&#x27;, random_state=5)</pre></div> </div></div></div></div>"
            ]
          },
          "metadata": {},
          "execution_count": 21
        }
      ]
    },
    {
      "cell_type": "code",
      "source": [
        "model_precision(svc, Xt, yt)"
      ],
      "metadata": {
        "colab": {
          "base_uri": "https://localhost:8080/"
        },
        "id": "K_h5iUoEZFR8",
        "outputId": "b0ac2f5c-8126-4f2e-c0d9-37eafbdab6bb"
      },
      "execution_count": 22,
      "outputs": [
        {
          "output_type": "stream",
          "name": "stdout",
          "text": [
            "accuracy = 0.9583333333333334\n",
            "f1 score = 0.9568903872538169\n"
          ]
        }
      ]
    },
    {
      "cell_type": "code",
      "source": [
        "print(\"test Git commiting\")"
      ],
      "metadata": {
        "colab": {
          "base_uri": "https://localhost:8080/"
        },
        "id": "mtlxtlazZq5_",
        "outputId": "13ede862-5f40-4c46-8dcc-14cb6e372705"
      },
      "execution_count": 23,
      "outputs": [
        {
          "output_type": "stream",
          "name": "stdout",
          "text": [
            "test Git commiting\n"
          ]
        }
      ]
    },
    {
      "cell_type": "markdown",
      "source": [
        "## Обучения с наилучшими параметрами сразу (только на обрезанных фотках)"
      ],
      "metadata": {
        "id": "2GVE4g5mm0mX"
      }
    },
    {
      "cell_type": "code",
      "source": [
        "X = X_train_crop.reshape(X_train.shape[0], -1)\n",
        "Xt = X_test_crop.reshape(X_test.shape[0], -1)\n",
        "y = y_train\n",
        "yt = y_test\n",
        "\n",
        "print(X.shape, y.shape, Xt.shape, yt.shape)"
      ],
      "metadata": {
        "id": "jLYLI5KdnaiF",
        "outputId": "b88ebc00-4121-414a-a596-a8cd5c077199",
        "colab": {
          "base_uri": "https://localhost:8080/"
        }
      },
      "execution_count": 24,
      "outputs": [
        {
          "output_type": "stream",
          "name": "stdout",
          "text": [
            "(5279, 2700) (5279,) (1680, 2700) (1680,)\n"
          ]
        }
      ]
    },
    {
      "cell_type": "markdown",
      "source": [
        "### SVC"
      ],
      "metadata": {
        "id": "z7RObBZWnApq"
      }
    },
    {
      "cell_type": "code",
      "source": [
        "svc = SVC(random_state=5)\n",
        "param_grid_svc = {\n",
        "    'C': [0.1, 1, 10],\n",
        "    'kernel': ['linear', 'rbf'],\n",
        "    'gamma': ['scale', 'auto']\n",
        "}\n",
        "\n",
        "grid_svc = GridSearchCV(svc, param_grid_svc, scoring='f1_weighted', cv=4, verbose=2)\n",
        "grid_svc.fit(X, y)\n",
        "print(\"Лучшие параметры для опорных векторов:\", grid_svc.best_params_)"
      ],
      "metadata": {
        "collapsed": true,
        "id": "BzZiWdt0nC_R",
        "outputId": "1b887e26-293e-4a39-cc7e-c80505cea65a",
        "colab": {
          "base_uri": "https://localhost:8080/"
        }
      },
      "execution_count": 25,
      "outputs": [
        {
          "output_type": "stream",
          "name": "stdout",
          "text": [
            "Fitting 4 folds for each of 12 candidates, totalling 48 fits\n",
            "[CV] END ..................C=0.1, gamma=scale, kernel=linear; total time=   4.2s\n",
            "[CV] END ..................C=0.1, gamma=scale, kernel=linear; total time=   5.0s\n",
            "[CV] END ..................C=0.1, gamma=scale, kernel=linear; total time=   4.0s\n",
            "[CV] END ..................C=0.1, gamma=scale, kernel=linear; total time=   4.4s\n",
            "[CV] END .....................C=0.1, gamma=scale, kernel=rbf; total time=  35.5s\n",
            "[CV] END .....................C=0.1, gamma=scale, kernel=rbf; total time=  42.5s\n",
            "[CV] END .....................C=0.1, gamma=scale, kernel=rbf; total time=  32.9s\n",
            "[CV] END .....................C=0.1, gamma=scale, kernel=rbf; total time=  37.3s\n",
            "[CV] END ...................C=0.1, gamma=auto, kernel=linear; total time=   4.1s\n",
            "[CV] END ...................C=0.1, gamma=auto, kernel=linear; total time=   5.0s\n",
            "[CV] END ...................C=0.1, gamma=auto, kernel=linear; total time=   3.7s\n",
            "[CV] END ...................C=0.1, gamma=auto, kernel=linear; total time=   4.5s\n",
            "[CV] END ......................C=0.1, gamma=auto, kernel=rbf; total time=  42.9s\n",
            "[CV] END ......................C=0.1, gamma=auto, kernel=rbf; total time=  44.0s\n",
            "[CV] END ......................C=0.1, gamma=auto, kernel=rbf; total time=  43.0s\n",
            "[CV] END ......................C=0.1, gamma=auto, kernel=rbf; total time=  43.0s\n",
            "[CV] END ....................C=1, gamma=scale, kernel=linear; total time=   3.7s\n",
            "[CV] END ....................C=1, gamma=scale, kernel=linear; total time=   4.1s\n",
            "[CV] END ....................C=1, gamma=scale, kernel=linear; total time=   3.4s\n",
            "[CV] END ....................C=1, gamma=scale, kernel=linear; total time=   3.6s\n",
            "[CV] END .......................C=1, gamma=scale, kernel=rbf; total time=  16.5s\n",
            "[CV] END .......................C=1, gamma=scale, kernel=rbf; total time=  18.1s\n",
            "[CV] END .......................C=1, gamma=scale, kernel=rbf; total time=  16.1s\n",
            "[CV] END .......................C=1, gamma=scale, kernel=rbf; total time=  18.4s\n",
            "[CV] END .....................C=1, gamma=auto, kernel=linear; total time=   3.8s\n",
            "[CV] END .....................C=1, gamma=auto, kernel=linear; total time=   3.7s\n",
            "[CV] END .....................C=1, gamma=auto, kernel=linear; total time=   3.3s\n",
            "[CV] END .....................C=1, gamma=auto, kernel=linear; total time=   4.0s\n",
            "[CV] END ........................C=1, gamma=auto, kernel=rbf; total time=  28.2s\n",
            "[CV] END ........................C=1, gamma=auto, kernel=rbf; total time=  30.2s\n",
            "[CV] END ........................C=1, gamma=auto, kernel=rbf; total time=  25.7s\n",
            "[CV] END ........................C=1, gamma=auto, kernel=rbf; total time=  28.9s\n",
            "[CV] END ...................C=10, gamma=scale, kernel=linear; total time=   3.4s\n",
            "[CV] END ...................C=10, gamma=scale, kernel=linear; total time=   3.9s\n",
            "[CV] END ...................C=10, gamma=scale, kernel=linear; total time=   3.7s\n",
            "[CV] END ...................C=10, gamma=scale, kernel=linear; total time=   3.6s\n",
            "[CV] END ......................C=10, gamma=scale, kernel=rbf; total time=  10.8s\n",
            "[CV] END ......................C=10, gamma=scale, kernel=rbf; total time=  12.6s\n",
            "[CV] END ......................C=10, gamma=scale, kernel=rbf; total time=  12.1s\n",
            "[CV] END ......................C=10, gamma=scale, kernel=rbf; total time=  12.8s\n",
            "[CV] END ....................C=10, gamma=auto, kernel=linear; total time=   3.6s\n",
            "[CV] END ....................C=10, gamma=auto, kernel=linear; total time=   3.7s\n",
            "[CV] END ....................C=10, gamma=auto, kernel=linear; total time=   3.2s\n",
            "[CV] END ....................C=10, gamma=auto, kernel=linear; total time=   4.1s\n",
            "[CV] END .......................C=10, gamma=auto, kernel=rbf; total time=  11.5s\n",
            "[CV] END .......................C=10, gamma=auto, kernel=rbf; total time=  12.2s\n",
            "[CV] END .......................C=10, gamma=auto, kernel=rbf; total time=  10.4s\n",
            "[CV] END .......................C=10, gamma=auto, kernel=rbf; total time=  12.9s\n",
            "Лучшие параметры для опорных векторов: {'C': 0.1, 'gamma': 'scale', 'kernel': 'linear'}\n"
          ]
        }
      ]
    },
    {
      "cell_type": "code",
      "source": [
        "model_precision(grid_svc.best_estimator_, Xt, yt)"
      ],
      "metadata": {
        "id": "ZrAJXW_ancAT",
        "outputId": "6a27b69b-ed53-472b-dd79-b3c4b7d9edf6",
        "colab": {
          "base_uri": "https://localhost:8080/"
        }
      },
      "execution_count": 26,
      "outputs": [
        {
          "output_type": "stream",
          "name": "stdout",
          "text": [
            "accuracy = 0.9607142857142857\n",
            "f1 score = 0.9591129339068993\n"
          ]
        }
      ]
    },
    {
      "cell_type": "markdown",
      "source": [
        "### LogReg"
      ],
      "metadata": {
        "id": "G6jdg7IWirfE"
      }
    },
    {
      "cell_type": "code",
      "source": [
        "logreg = LogisticRegression(random_state=5, max_iter=100)\n",
        "param_grid_logreg = {\n",
        "    'C': [0.1, 1, 10],\n",
        "    'solver': ['liblinear', 'lbfgs']\n",
        "}\n",
        "grid_logreg = GridSearchCV(logreg, param_grid_logreg, scoring='f1_weighted', cv=4, verbose=2)\n",
        "grid_logreg.fit(X, y)\n",
        "print(\"Лучшие параметры для логистической регрессии:\", grid_logreg.best_params_)"
      ],
      "metadata": {
        "id": "SgCB_HTOZtLV",
        "collapsed": true,
        "outputId": "9b862313-4b84-411a-85a6-42c24bb96fe4",
        "colab": {
          "base_uri": "https://localhost:8080/"
        }
      },
      "execution_count": 27,
      "outputs": [
        {
          "output_type": "stream",
          "name": "stdout",
          "text": [
            "Fitting 4 folds for each of 6 candidates, totalling 24 fits\n",
            "[CV] END ............................C=0.1, solver=liblinear; total time=  15.2s\n",
            "[CV] END ............................C=0.1, solver=liblinear; total time=  15.5s\n",
            "[CV] END ............................C=0.1, solver=liblinear; total time=  15.4s\n",
            "[CV] END ............................C=0.1, solver=liblinear; total time=  15.9s\n"
          ]
        },
        {
          "output_type": "stream",
          "name": "stderr",
          "text": [
            "/usr/local/lib/python3.10/dist-packages/sklearn/linear_model/_logistic.py:469: ConvergenceWarning: lbfgs failed to converge (status=1):\n",
            "STOP: TOTAL NO. of ITERATIONS REACHED LIMIT.\n",
            "\n",
            "Increase the number of iterations (max_iter) or scale the data as shown in:\n",
            "    https://scikit-learn.org/stable/modules/preprocessing.html\n",
            "Please also refer to the documentation for alternative solver options:\n",
            "    https://scikit-learn.org/stable/modules/linear_model.html#logistic-regression\n",
            "  n_iter_i = _check_optimize_result(\n"
          ]
        },
        {
          "output_type": "stream",
          "name": "stdout",
          "text": [
            "[CV] END ................................C=0.1, solver=lbfgs; total time=  10.5s\n"
          ]
        },
        {
          "output_type": "stream",
          "name": "stderr",
          "text": [
            "/usr/local/lib/python3.10/dist-packages/sklearn/linear_model/_logistic.py:469: ConvergenceWarning: lbfgs failed to converge (status=1):\n",
            "STOP: TOTAL NO. of ITERATIONS REACHED LIMIT.\n",
            "\n",
            "Increase the number of iterations (max_iter) or scale the data as shown in:\n",
            "    https://scikit-learn.org/stable/modules/preprocessing.html\n",
            "Please also refer to the documentation for alternative solver options:\n",
            "    https://scikit-learn.org/stable/modules/linear_model.html#logistic-regression\n",
            "  n_iter_i = _check_optimize_result(\n"
          ]
        },
        {
          "output_type": "stream",
          "name": "stdout",
          "text": [
            "[CV] END ................................C=0.1, solver=lbfgs; total time=  11.4s\n"
          ]
        },
        {
          "output_type": "stream",
          "name": "stderr",
          "text": [
            "/usr/local/lib/python3.10/dist-packages/sklearn/linear_model/_logistic.py:469: ConvergenceWarning: lbfgs failed to converge (status=1):\n",
            "STOP: TOTAL NO. of ITERATIONS REACHED LIMIT.\n",
            "\n",
            "Increase the number of iterations (max_iter) or scale the data as shown in:\n",
            "    https://scikit-learn.org/stable/modules/preprocessing.html\n",
            "Please also refer to the documentation for alternative solver options:\n",
            "    https://scikit-learn.org/stable/modules/linear_model.html#logistic-regression\n",
            "  n_iter_i = _check_optimize_result(\n"
          ]
        },
        {
          "output_type": "stream",
          "name": "stdout",
          "text": [
            "[CV] END ................................C=0.1, solver=lbfgs; total time=   9.8s\n"
          ]
        },
        {
          "output_type": "stream",
          "name": "stderr",
          "text": [
            "/usr/local/lib/python3.10/dist-packages/sklearn/linear_model/_logistic.py:469: ConvergenceWarning: lbfgs failed to converge (status=1):\n",
            "STOP: TOTAL NO. of ITERATIONS REACHED LIMIT.\n",
            "\n",
            "Increase the number of iterations (max_iter) or scale the data as shown in:\n",
            "    https://scikit-learn.org/stable/modules/preprocessing.html\n",
            "Please also refer to the documentation for alternative solver options:\n",
            "    https://scikit-learn.org/stable/modules/linear_model.html#logistic-regression\n",
            "  n_iter_i = _check_optimize_result(\n"
          ]
        },
        {
          "output_type": "stream",
          "name": "stdout",
          "text": [
            "[CV] END ................................C=0.1, solver=lbfgs; total time=  11.1s\n",
            "[CV] END ..............................C=1, solver=liblinear; total time=  19.1s\n",
            "[CV] END ..............................C=1, solver=liblinear; total time=  19.1s\n",
            "[CV] END ..............................C=1, solver=liblinear; total time=  18.9s\n",
            "[CV] END ..............................C=1, solver=liblinear; total time=  20.9s\n",
            "[CV] END ..................................C=1, solver=lbfgs; total time=  11.9s\n"
          ]
        },
        {
          "output_type": "stream",
          "name": "stderr",
          "text": [
            "/usr/local/lib/python3.10/dist-packages/sklearn/linear_model/_logistic.py:469: ConvergenceWarning: lbfgs failed to converge (status=1):\n",
            "STOP: TOTAL NO. of ITERATIONS REACHED LIMIT.\n",
            "\n",
            "Increase the number of iterations (max_iter) or scale the data as shown in:\n",
            "    https://scikit-learn.org/stable/modules/preprocessing.html\n",
            "Please also refer to the documentation for alternative solver options:\n",
            "    https://scikit-learn.org/stable/modules/linear_model.html#logistic-regression\n",
            "  n_iter_i = _check_optimize_result(\n"
          ]
        },
        {
          "output_type": "stream",
          "name": "stdout",
          "text": [
            "[CV] END ..................................C=1, solver=lbfgs; total time=  11.8s\n",
            "[CV] END ..................................C=1, solver=lbfgs; total time=   8.9s\n",
            "[CV] END ..................................C=1, solver=lbfgs; total time=  11.0s\n",
            "[CV] END .............................C=10, solver=liblinear; total time=  21.7s\n",
            "[CV] END .............................C=10, solver=liblinear; total time=  20.9s\n",
            "[CV] END .............................C=10, solver=liblinear; total time=  22.6s\n",
            "[CV] END .............................C=10, solver=liblinear; total time=  23.5s\n",
            "[CV] END .................................C=10, solver=lbfgs; total time=   6.1s\n",
            "[CV] END .................................C=10, solver=lbfgs; total time=   5.4s\n",
            "[CV] END .................................C=10, solver=lbfgs; total time=   7.0s\n",
            "[CV] END .................................C=10, solver=lbfgs; total time=   7.1s\n",
            "Лучшие параметры для логистической регрессии: {'C': 1, 'solver': 'liblinear'}\n"
          ]
        }
      ]
    },
    {
      "cell_type": "code",
      "source": [
        "model_precision(grid_logreg.best_estimator_, Xt, yt)"
      ],
      "metadata": {
        "id": "_t3GkiIujZNW",
        "outputId": "bc7dbde4-c285-4125-cde6-65137ac7fb9e",
        "colab": {
          "base_uri": "https://localhost:8080/"
        }
      },
      "execution_count": 28,
      "outputs": [
        {
          "output_type": "stream",
          "name": "stdout",
          "text": [
            "accuracy = 0.9696428571428571\n",
            "f1 score = 0.968423372750551\n"
          ]
        }
      ]
    },
    {
      "cell_type": "markdown",
      "source": [
        "### KNN"
      ],
      "metadata": {
        "id": "bxHqVPRqjr2q"
      }
    },
    {
      "cell_type": "code",
      "source": [
        "# 3. Метод k ближайших соседей\n",
        "knn = KNeighborsClassifier()\n",
        "param_grid_knn = {\n",
        "    'n_neighbors': [2, 6, 10],\n",
        "    'weights': ['uniform', 'distance'],\n",
        "    'metric': ['euclidean', 'manhattan']\n",
        "}\n",
        "\n",
        "grid_knn = GridSearchCV(knn, param_grid_knn, scoring='f1_weighted', cv=4, verbose=2)\n",
        "grid_knn.fit(X, y)\n",
        "print(\"Лучшие параметры для к ближайших соседей:\", grid_knn.best_params_)"
      ],
      "metadata": {
        "collapsed": true,
        "id": "DwZI7B3Ejqmq",
        "outputId": "9cdca632-06b2-407b-ca42-bca7cc75e24f",
        "colab": {
          "base_uri": "https://localhost:8080/"
        }
      },
      "execution_count": 29,
      "outputs": [
        {
          "output_type": "stream",
          "name": "stdout",
          "text": [
            "Fitting 4 folds for each of 12 candidates, totalling 48 fits\n",
            "[CV] END ...metric=euclidean, n_neighbors=2, weights=uniform; total time=   1.6s\n",
            "[CV] END ...metric=euclidean, n_neighbors=2, weights=uniform; total time=   1.7s\n",
            "[CV] END ...metric=euclidean, n_neighbors=2, weights=uniform; total time=   1.5s\n",
            "[CV] END ...metric=euclidean, n_neighbors=2, weights=uniform; total time=   1.1s\n",
            "[CV] END ..metric=euclidean, n_neighbors=2, weights=distance; total time=   1.0s\n",
            "[CV] END ..metric=euclidean, n_neighbors=2, weights=distance; total time=   1.0s\n",
            "[CV] END ..metric=euclidean, n_neighbors=2, weights=distance; total time=   1.0s\n",
            "[CV] END ..metric=euclidean, n_neighbors=2, weights=distance; total time=   1.0s\n",
            "[CV] END ...metric=euclidean, n_neighbors=6, weights=uniform; total time=   1.1s\n",
            "[CV] END ...metric=euclidean, n_neighbors=6, weights=uniform; total time=   1.1s\n",
            "[CV] END ...metric=euclidean, n_neighbors=6, weights=uniform; total time=   1.1s\n",
            "[CV] END ...metric=euclidean, n_neighbors=6, weights=uniform; total time=   1.1s\n",
            "[CV] END ..metric=euclidean, n_neighbors=6, weights=distance; total time=   1.6s\n",
            "[CV] END ..metric=euclidean, n_neighbors=6, weights=distance; total time=   1.7s\n",
            "[CV] END ..metric=euclidean, n_neighbors=6, weights=distance; total time=   1.2s\n",
            "[CV] END ..metric=euclidean, n_neighbors=6, weights=distance; total time=   1.0s\n",
            "[CV] END ..metric=euclidean, n_neighbors=10, weights=uniform; total time=   1.1s\n",
            "[CV] END ..metric=euclidean, n_neighbors=10, weights=uniform; total time=   1.1s\n",
            "[CV] END ..metric=euclidean, n_neighbors=10, weights=uniform; total time=   1.1s\n",
            "[CV] END ..metric=euclidean, n_neighbors=10, weights=uniform; total time=   1.1s\n",
            "[CV] END .metric=euclidean, n_neighbors=10, weights=distance; total time=   1.0s\n",
            "[CV] END .metric=euclidean, n_neighbors=10, weights=distance; total time=   1.0s\n",
            "[CV] END .metric=euclidean, n_neighbors=10, weights=distance; total time=   1.0s\n",
            "[CV] END .metric=euclidean, n_neighbors=10, weights=distance; total time=   1.1s\n",
            "[CV] END ...metric=manhattan, n_neighbors=2, weights=uniform; total time=  22.1s\n",
            "[CV] END ...metric=manhattan, n_neighbors=2, weights=uniform; total time=  22.1s\n",
            "[CV] END ...metric=manhattan, n_neighbors=2, weights=uniform; total time=  21.8s\n",
            "[CV] END ...metric=manhattan, n_neighbors=2, weights=uniform; total time=  22.1s\n",
            "[CV] END ..metric=manhattan, n_neighbors=2, weights=distance; total time=  21.8s\n",
            "[CV] END ..metric=manhattan, n_neighbors=2, weights=distance; total time=  22.0s\n",
            "[CV] END ..metric=manhattan, n_neighbors=2, weights=distance; total time=  22.1s\n",
            "[CV] END ..metric=manhattan, n_neighbors=2, weights=distance; total time=  21.8s\n",
            "[CV] END ...metric=manhattan, n_neighbors=6, weights=uniform; total time=  22.1s\n",
            "[CV] END ...metric=manhattan, n_neighbors=6, weights=uniform; total time=  21.8s\n",
            "[CV] END ...metric=manhattan, n_neighbors=6, weights=uniform; total time=  22.1s\n",
            "[CV] END ...metric=manhattan, n_neighbors=6, weights=uniform; total time=  22.1s\n",
            "[CV] END ..metric=manhattan, n_neighbors=6, weights=distance; total time=  21.9s\n",
            "[CV] END ..metric=manhattan, n_neighbors=6, weights=distance; total time=  22.1s\n",
            "[CV] END ..metric=manhattan, n_neighbors=6, weights=distance; total time=  21.9s\n",
            "[CV] END ..metric=manhattan, n_neighbors=6, weights=distance; total time=  22.1s\n",
            "[CV] END ..metric=manhattan, n_neighbors=10, weights=uniform; total time=  22.1s\n",
            "[CV] END ..metric=manhattan, n_neighbors=10, weights=uniform; total time=  21.8s\n",
            "[CV] END ..metric=manhattan, n_neighbors=10, weights=uniform; total time=  22.1s\n",
            "[CV] END ..metric=manhattan, n_neighbors=10, weights=uniform; total time=  21.9s\n",
            "[CV] END .metric=manhattan, n_neighbors=10, weights=distance; total time=  22.0s\n",
            "[CV] END .metric=manhattan, n_neighbors=10, weights=distance; total time=  22.1s\n",
            "[CV] END .metric=manhattan, n_neighbors=10, weights=distance; total time=  21.8s\n",
            "[CV] END .metric=manhattan, n_neighbors=10, weights=distance; total time=  22.1s\n",
            "Лучшие параметры для к ближайших соседей: {'metric': 'manhattan', 'n_neighbors': 2, 'weights': 'distance'}\n"
          ]
        }
      ]
    },
    {
      "cell_type": "code",
      "source": [
        "model_precision(grid_knn.best_estimator_, Xt, yt)"
      ],
      "metadata": {
        "id": "EOmHCNXJnqkx",
        "outputId": "a77499bc-fce0-4176-a924-65444f51dca9",
        "colab": {
          "base_uri": "https://localhost:8080/"
        }
      },
      "execution_count": 31,
      "outputs": [
        {
          "output_type": "stream",
          "name": "stdout",
          "text": [
            "accuracy = 0.7934523809523809\n",
            "f1 score = 0.7892885042766586\n"
          ]
        }
      ]
    },
    {
      "cell_type": "markdown",
      "source": [
        "### DecisionTree"
      ],
      "metadata": {
        "id": "efiR0l5zjwMY"
      }
    },
    {
      "cell_type": "code",
      "source": [
        "tree = DecisionTreeClassifier(random_state=5)\n",
        "param_grid_tree = {\n",
        "    'criterion': ['gini', 'entropy'],\n",
        "    'max_depth': [None, 10, 30],\n",
        "    'min_samples_split': [2, 10]\n",
        "}\n",
        "grid_tree = GridSearchCV(tree, param_grid_tree, scoring='f1_weighted', cv=4, verbose=2)\n",
        "grid_tree.fit(X, y)\n",
        "print(\"Лучшие параметры для дерева принятия решений:\", grid_tree.best_params_)"
      ],
      "metadata": {
        "collapsed": true,
        "id": "swdm1Wnejx2D",
        "outputId": "bb156982-f8b2-446a-fa14-7fa8b075b608",
        "colab": {
          "base_uri": "https://localhost:8080/"
        }
      },
      "execution_count": 33,
      "outputs": [
        {
          "output_type": "stream",
          "name": "stdout",
          "text": [
            "Fitting 4 folds for each of 12 candidates, totalling 48 fits\n",
            "[CV] END criterion=gini, max_depth=None, min_samples_split=2; total time=  13.0s\n",
            "[CV] END criterion=gini, max_depth=None, min_samples_split=2; total time=   8.0s\n",
            "[CV] END criterion=gini, max_depth=None, min_samples_split=2; total time=   7.5s\n",
            "[CV] END criterion=gini, max_depth=None, min_samples_split=2; total time=   8.5s\n",
            "[CV] END criterion=gini, max_depth=None, min_samples_split=10; total time=   7.7s\n",
            "[CV] END criterion=gini, max_depth=None, min_samples_split=10; total time=   8.1s\n",
            "[CV] END criterion=gini, max_depth=None, min_samples_split=10; total time=   7.8s\n",
            "[CV] END criterion=gini, max_depth=None, min_samples_split=10; total time=   7.9s\n",
            "[CV] END ..criterion=gini, max_depth=10, min_samples_split=2; total time=   7.7s\n",
            "[CV] END ..criterion=gini, max_depth=10, min_samples_split=2; total time=   6.7s\n",
            "[CV] END ..criterion=gini, max_depth=10, min_samples_split=2; total time=   7.4s\n",
            "[CV] END ..criterion=gini, max_depth=10, min_samples_split=2; total time=   6.4s\n",
            "[CV] END .criterion=gini, max_depth=10, min_samples_split=10; total time=   9.1s\n",
            "[CV] END .criterion=gini, max_depth=10, min_samples_split=10; total time=   6.6s\n",
            "[CV] END .criterion=gini, max_depth=10, min_samples_split=10; total time=   7.3s\n",
            "[CV] END .criterion=gini, max_depth=10, min_samples_split=10; total time=   6.4s\n",
            "[CV] END ..criterion=gini, max_depth=30, min_samples_split=2; total time=   8.8s\n",
            "[CV] END ..criterion=gini, max_depth=30, min_samples_split=2; total time=   7.5s\n",
            "[CV] END ..criterion=gini, max_depth=30, min_samples_split=2; total time=   8.0s\n",
            "[CV] END ..criterion=gini, max_depth=30, min_samples_split=2; total time=   8.5s\n",
            "[CV] END .criterion=gini, max_depth=30, min_samples_split=10; total time=   7.7s\n",
            "[CV] END .criterion=gini, max_depth=30, min_samples_split=10; total time=   8.1s\n",
            "[CV] END .criterion=gini, max_depth=30, min_samples_split=10; total time=   7.3s\n",
            "[CV] END .criterion=gini, max_depth=30, min_samples_split=10; total time=   8.4s\n",
            "[CV] END criterion=entropy, max_depth=None, min_samples_split=2; total time=   8.2s\n",
            "[CV] END criterion=entropy, max_depth=None, min_samples_split=2; total time=   8.1s\n",
            "[CV] END criterion=entropy, max_depth=None, min_samples_split=2; total time=   8.1s\n",
            "[CV] END criterion=entropy, max_depth=None, min_samples_split=2; total time=   7.3s\n",
            "[CV] END criterion=entropy, max_depth=None, min_samples_split=10; total time=   8.3s\n",
            "[CV] END criterion=entropy, max_depth=None, min_samples_split=10; total time=   8.0s\n",
            "[CV] END criterion=entropy, max_depth=None, min_samples_split=10; total time=   7.5s\n",
            "[CV] END criterion=entropy, max_depth=None, min_samples_split=10; total time=   8.5s\n",
            "[CV] END criterion=entropy, max_depth=10, min_samples_split=2; total time=   7.3s\n",
            "[CV] END criterion=entropy, max_depth=10, min_samples_split=2; total time=   8.7s\n",
            "[CV] END criterion=entropy, max_depth=10, min_samples_split=2; total time=   7.0s\n",
            "[CV] END criterion=entropy, max_depth=10, min_samples_split=2; total time=   8.5s\n",
            "[CV] END criterion=entropy, max_depth=10, min_samples_split=10; total time=   8.0s\n",
            "[CV] END criterion=entropy, max_depth=10, min_samples_split=10; total time=   7.8s\n",
            "[CV] END criterion=entropy, max_depth=10, min_samples_split=10; total time=   8.1s\n",
            "[CV] END criterion=entropy, max_depth=10, min_samples_split=10; total time=   7.3s\n",
            "[CV] END criterion=entropy, max_depth=30, min_samples_split=2; total time=   8.4s\n",
            "[CV] END criterion=entropy, max_depth=30, min_samples_split=2; total time=   7.5s\n",
            "[CV] END criterion=entropy, max_depth=30, min_samples_split=2; total time=   7.9s\n",
            "[CV] END criterion=entropy, max_depth=30, min_samples_split=2; total time=   8.3s\n",
            "[CV] END criterion=entropy, max_depth=30, min_samples_split=10; total time=   7.4s\n",
            "[CV] END criterion=entropy, max_depth=30, min_samples_split=10; total time=   8.6s\n",
            "[CV] END criterion=entropy, max_depth=30, min_samples_split=10; total time=   6.9s\n",
            "[CV] END criterion=entropy, max_depth=30, min_samples_split=10; total time=   8.5s\n",
            "Лучшие параметры для дерева принятия решений: {'criterion': 'entropy', 'max_depth': None, 'min_samples_split': 10}\n"
          ]
        }
      ]
    },
    {
      "cell_type": "code",
      "source": [
        "model_precision(grid_tree.best_estimator_, Xt, yt)"
      ],
      "metadata": {
        "id": "DPkyK5lIoIoJ",
        "outputId": "b6a75b3a-d216-4996-ee5b-5c92dccf50ab",
        "colab": {
          "base_uri": "https://localhost:8080/"
        }
      },
      "execution_count": 35,
      "outputs": [
        {
          "output_type": "stream",
          "name": "stdout",
          "text": [
            "accuracy = 0.8327380952380953\n",
            "f1 score = 0.8337330245528921\n"
          ]
        }
      ]
    },
    {
      "cell_type": "code",
      "source": [],
      "metadata": {
        "id": "-adYeVODv21s"
      },
      "execution_count": null,
      "outputs": []
    }
  ]
}